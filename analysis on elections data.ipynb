{
 "cells": [
  {
   "cell_type": "code",
   "execution_count": 218,
   "metadata": {},
   "outputs": [],
   "source": [
    "#program for analysis of elections in India\n",
    "#programmed by Jaswanth Reddy Tanamala\n",
    "#email:JaswanthReddy.Tanamala@chubb.com\n",
    "# Date : 04-Mar-2021\n",
    "# Language : Python3.9.1\n",
    "# Console:Jupyter notebook"
   ]
  },
  {
   "cell_type": "code",
   "execution_count": null,
   "metadata": {},
   "outputs": [],
   "source": [
    "import pandas as pd\n",
    "import numpy as np\n",
    "import matplotlib.pyplot as plt\n",
    "import seaborn as sn\n",
    "import plotly.graph_objects as go"
   ]
  },
  {
   "cell_type": "code",
   "execution_count": 219,
   "metadata": {},
   "outputs": [
    {
     "data": {
      "text/plain": [
       "state/ut          0\n",
       "PC                0\n",
       "candidate_name    0\n",
       "party             0\n",
       "evm_votes         0\n",
       "postal_votes      0\n",
       "total_votes       0\n",
       "Rank              0\n",
       "dtype: int64"
      ]
     },
     "execution_count": 219,
     "metadata": {},
     "output_type": "execute_result"
    }
   ],
   "source": [
    "ge14=pd.read_csv(r\"C:\\Users\\jatanam\\Data Analytics Project-2/GE_india_2014_results.csv\")\n",
    "ge14.head()\n",
    "ge14.isnull().sum()"
   ]
  },
  {
   "cell_type": "code",
   "execution_count": 220,
   "metadata": {},
   "outputs": [
    {
     "data": {
      "text/plain": [
       "state/ut          0\n",
       "PC                0\n",
       "candidate_name    0\n",
       "party             0\n",
       "evm_votes         0\n",
       "postal_votes      0\n",
       "migrant_votes     0\n",
       "total_votes       0\n",
       "percent_votes     0\n",
       "rank              0\n",
       "dtype: int64"
      ]
     },
     "execution_count": 220,
     "metadata": {},
     "output_type": "execute_result"
    }
   ],
   "source": [
    "ge19=pd.read_csv(r\"C:\\Users\\jatanam\\Data Analytics Project-2/GE_india_2019_results.csv\")\n",
    "ge19.head()\n",
    "ge19.isnull().sum()\n",
    "ge19['migrant_votes'].fillna(0,inplace=True)\n",
    "ge19.isnull().sum()\n"
   ]
  },
  {
   "cell_type": "code",
   "execution_count": 221,
   "metadata": {},
   "outputs": [
    {
     "data": {
      "text/html": [
       "<div>\n",
       "<style scoped>\n",
       "    .dataframe tbody tr th:only-of-type {\n",
       "        vertical-align: middle;\n",
       "    }\n",
       "\n",
       "    .dataframe tbody tr th {\n",
       "        vertical-align: top;\n",
       "    }\n",
       "\n",
       "    .dataframe thead th {\n",
       "        text-align: right;\n",
       "    }\n",
       "</style>\n",
       "<table border=\"1\" class=\"dataframe\">\n",
       "  <thead>\n",
       "    <tr style=\"text-align: right;\">\n",
       "      <th></th>\n",
       "      <th>st_name</th>\n",
       "      <th>year</th>\n",
       "      <th>pc_no</th>\n",
       "      <th>pc_name</th>\n",
       "      <th>pc_type</th>\n",
       "      <th>cand_name</th>\n",
       "      <th>cand_sex</th>\n",
       "      <th>partyname</th>\n",
       "      <th>partyabbre</th>\n",
       "      <th>totvotpoll</th>\n",
       "      <th>electors</th>\n",
       "    </tr>\n",
       "  </thead>\n",
       "  <tbody>\n",
       "    <tr>\n",
       "      <th>64</th>\n",
       "      <td>Andaman &amp; Nicobar Islands</td>\n",
       "      <td>2009</td>\n",
       "      <td>1</td>\n",
       "      <td>Andaman &amp; Nicobar Islands</td>\n",
       "      <td>NaN</td>\n",
       "      <td>Shri. T. Ali</td>\n",
       "      <td>M</td>\n",
       "      <td>Independent</td>\n",
       "      <td>IND</td>\n",
       "      <td>398</td>\n",
       "      <td>265110</td>\n",
       "    </tr>\n",
       "    <tr>\n",
       "      <th>65</th>\n",
       "      <td>Andaman &amp; Nicobar Islands</td>\n",
       "      <td>2009</td>\n",
       "      <td>1</td>\n",
       "      <td>Andaman &amp; Nicobar Islands</td>\n",
       "      <td>NaN</td>\n",
       "      <td>Dr. Thankachan</td>\n",
       "      <td>M</td>\n",
       "      <td>Independent</td>\n",
       "      <td>IND</td>\n",
       "      <td>683</td>\n",
       "      <td>265110</td>\n",
       "    </tr>\n",
       "    <tr>\n",
       "      <th>66</th>\n",
       "      <td>Andaman &amp; Nicobar Islands</td>\n",
       "      <td>2009</td>\n",
       "      <td>1</td>\n",
       "      <td>Andaman &amp; Nicobar Islands</td>\n",
       "      <td>NaN</td>\n",
       "      <td>Shri. N. K. P. Nair</td>\n",
       "      <td>M</td>\n",
       "      <td>Communist Party Of India (Marxist-Leninist) (L...</td>\n",
       "      <td>CPI(ML)</td>\n",
       "      <td>734</td>\n",
       "      <td>265110</td>\n",
       "    </tr>\n",
       "    <tr>\n",
       "      <th>67</th>\n",
       "      <td>Andaman &amp; Nicobar Islands</td>\n",
       "      <td>2009</td>\n",
       "      <td>1</td>\n",
       "      <td>Andaman &amp; Nicobar Islands</td>\n",
       "      <td>NaN</td>\n",
       "      <td>Shri. M. S. Mohan</td>\n",
       "      <td>M</td>\n",
       "      <td>Bahujan Samaj Party</td>\n",
       "      <td>BSP</td>\n",
       "      <td>789</td>\n",
       "      <td>265110</td>\n",
       "    </tr>\n",
       "    <tr>\n",
       "      <th>68</th>\n",
       "      <td>Andaman &amp; Nicobar Islands</td>\n",
       "      <td>2009</td>\n",
       "      <td>1</td>\n",
       "      <td>Andaman &amp; Nicobar Islands</td>\n",
       "      <td>NaN</td>\n",
       "      <td>Shri. Vakiath Valappil Khalid</td>\n",
       "      <td>M</td>\n",
       "      <td>Independent</td>\n",
       "      <td>IND</td>\n",
       "      <td>1480</td>\n",
       "      <td>265110</td>\n",
       "    </tr>\n",
       "  </tbody>\n",
       "</table>\n",
       "</div>"
      ],
      "text/plain": [
       "                      st_name  year  pc_no                    pc_name pc_type  \\\n",
       "64  Andaman & Nicobar Islands  2009      1  Andaman & Nicobar Islands     NaN   \n",
       "65  Andaman & Nicobar Islands  2009      1  Andaman & Nicobar Islands     NaN   \n",
       "66  Andaman & Nicobar Islands  2009      1  Andaman & Nicobar Islands     NaN   \n",
       "67  Andaman & Nicobar Islands  2009      1  Andaman & Nicobar Islands     NaN   \n",
       "68  Andaman & Nicobar Islands  2009      1  Andaman & Nicobar Islands     NaN   \n",
       "\n",
       "                        cand_name cand_sex  \\\n",
       "64                   Shri. T. Ali        M   \n",
       "65                 Dr. Thankachan        M   \n",
       "66            Shri. N. K. P. Nair        M   \n",
       "67              Shri. M. S. Mohan        M   \n",
       "68  Shri. Vakiath Valappil Khalid        M   \n",
       "\n",
       "                                            partyname partyabbre  totvotpoll  \\\n",
       "64                                        Independent        IND         398   \n",
       "65                                        Independent        IND         683   \n",
       "66  Communist Party Of India (Marxist-Leninist) (L...    CPI(ML)         734   \n",
       "67                                Bahujan Samaj Party        BSP         789   \n",
       "68                                        Independent        IND        1480   \n",
       "\n",
       "    electors  \n",
       "64    265110  \n",
       "65    265110  \n",
       "66    265110  \n",
       "67    265110  \n",
       "68    265110  "
      ]
     },
     "execution_count": 221,
     "metadata": {},
     "output_type": "execute_result"
    }
   ],
   "source": [
    "NE=pd.read_csv(r\"C:\\Users\\jatanam\\Data Analytics Project-2/indian-national-level-election-data-1977-2015.csv\")\n",
    "NE.head()\n",
    "NE[NE['pc_type'].isnull()].head()"
   ]
  },
  {
   "cell_type": "code",
   "execution_count": 222,
   "metadata": {},
   "outputs": [
    {
     "data": {
      "text/html": [
       "<div>\n",
       "<style scoped>\n",
       "    .dataframe tbody tr th:only-of-type {\n",
       "        vertical-align: middle;\n",
       "    }\n",
       "\n",
       "    .dataframe tbody tr th {\n",
       "        vertical-align: top;\n",
       "    }\n",
       "\n",
       "    .dataframe thead th {\n",
       "        text-align: right;\n",
       "    }\n",
       "</style>\n",
       "<table border=\"1\" class=\"dataframe\">\n",
       "  <thead>\n",
       "    <tr style=\"text-align: right;\">\n",
       "      <th></th>\n",
       "      <th>Candidate</th>\n",
       "      <th>Party</th>\n",
       "      <th>Criminal Cases</th>\n",
       "      <th>Education</th>\n",
       "      <th>Age</th>\n",
       "      <th>Total Assets</th>\n",
       "      <th>Constituency</th>\n",
       "      <th>Liabilities</th>\n",
       "      <th>Winner</th>\n",
       "      <th>Gender</th>\n",
       "    </tr>\n",
       "  </thead>\n",
       "  <tbody>\n",
       "    <tr>\n",
       "      <th>0</th>\n",
       "      <td>Shri Bishnu Pada Ray</td>\n",
       "      <td>BJP</td>\n",
       "      <td>1</td>\n",
       "      <td>Graduate</td>\n",
       "      <td>59</td>\n",
       "      <td>1241034.0</td>\n",
       "      <td>Andaman &amp; Nicobar Islands</td>\n",
       "      <td>0</td>\n",
       "      <td>0</td>\n",
       "      <td>M</td>\n",
       "    </tr>\n",
       "    <tr>\n",
       "      <th>1</th>\n",
       "      <td>Shri P. R. Ganeshan</td>\n",
       "      <td>RJD</td>\n",
       "      <td>0</td>\n",
       "      <td>Not Given</td>\n",
       "      <td>71</td>\n",
       "      <td>329563.0</td>\n",
       "      <td>Andaman &amp; Nicobar Islands</td>\n",
       "      <td>0</td>\n",
       "      <td>0</td>\n",
       "      <td>M</td>\n",
       "    </tr>\n",
       "    <tr>\n",
       "      <th>2</th>\n",
       "      <td>Shri Pradeep Kumar Ekka</td>\n",
       "      <td>JDP</td>\n",
       "      <td>0</td>\n",
       "      <td>Others</td>\n",
       "      <td>37</td>\n",
       "      <td>410000.0</td>\n",
       "      <td>Andaman &amp; Nicobar Islands</td>\n",
       "      <td>0</td>\n",
       "      <td>0</td>\n",
       "      <td>M</td>\n",
       "    </tr>\n",
       "    <tr>\n",
       "      <th>3</th>\n",
       "      <td>Shri T. Ali</td>\n",
       "      <td>IND</td>\n",
       "      <td>0</td>\n",
       "      <td>12th Pass</td>\n",
       "      <td>37</td>\n",
       "      <td>445957.0</td>\n",
       "      <td>Andaman &amp; Nicobar Islands</td>\n",
       "      <td>296000</td>\n",
       "      <td>0</td>\n",
       "      <td>M</td>\n",
       "    </tr>\n",
       "    <tr>\n",
       "      <th>4</th>\n",
       "      <td>Shri Tapan Kumar Bepari</td>\n",
       "      <td>CPM</td>\n",
       "      <td>0</td>\n",
       "      <td>Post Graduate</td>\n",
       "      <td>52</td>\n",
       "      <td>3986000.0</td>\n",
       "      <td>Andaman &amp; Nicobar Islands</td>\n",
       "      <td>0</td>\n",
       "      <td>0</td>\n",
       "      <td>M</td>\n",
       "    </tr>\n",
       "  </tbody>\n",
       "</table>\n",
       "</div>"
      ],
      "text/plain": [
       "                 Candidate Party  Criminal Cases      Education  Age  \\\n",
       "0     Shri Bishnu Pada Ray   BJP               1       Graduate   59   \n",
       "1      Shri P. R. Ganeshan   RJD               0      Not Given   71   \n",
       "2  Shri Pradeep Kumar Ekka   JDP               0         Others   37   \n",
       "3              Shri T. Ali   IND               0      12th Pass   37   \n",
       "4  Shri Tapan Kumar Bepari   CPM               0  Post Graduate   52   \n",
       "\n",
       "   Total Assets               Constituency  Liabilities  Winner Gender  \n",
       "0     1241034.0  Andaman & Nicobar Islands            0       0      M  \n",
       "1      329563.0  Andaman & Nicobar Islands            0       0      M  \n",
       "2      410000.0  Andaman & Nicobar Islands            0       0      M  \n",
       "3      445957.0  Andaman & Nicobar Islands       296000       0      M  \n",
       "4     3986000.0  Andaman & Nicobar Islands            0       0      M  "
      ]
     },
     "execution_count": 222,
     "metadata": {},
     "output_type": "execute_result"
    }
   ],
   "source": [
    "LS_1=pd.read_csv(r\"C:\\Users\\jatanam\\Data Analytics Project-2/LokSabha2004-2019.csv\")\n",
    "LS_1.head()\n",
    "LS_1.isnull().sum()\n",
    "LS_1['Total Assets'].fillna(0,inplace=True)\n",
    "LS_1.isnull().sum()\n",
    "LS_1.head()"
   ]
  },
  {
   "cell_type": "code",
   "execution_count": 223,
   "metadata": {},
   "outputs": [
    {
     "data": {
      "text/html": [
       "<div>\n",
       "<style scoped>\n",
       "    .dataframe tbody tr th:only-of-type {\n",
       "        vertical-align: middle;\n",
       "    }\n",
       "\n",
       "    .dataframe tbody tr th {\n",
       "        vertical-align: top;\n",
       "    }\n",
       "\n",
       "    .dataframe thead th {\n",
       "        text-align: right;\n",
       "    }\n",
       "</style>\n",
       "<table border=\"1\" class=\"dataframe\">\n",
       "  <thead>\n",
       "    <tr style=\"text-align: right;\">\n",
       "      <th></th>\n",
       "      <th>STATE</th>\n",
       "      <th>CONSTITUENCY</th>\n",
       "      <th>NAME</th>\n",
       "      <th>WINNER</th>\n",
       "      <th>PARTY</th>\n",
       "      <th>SYMBOL</th>\n",
       "      <th>GENDER</th>\n",
       "      <th>CRIMINAL\\nCASES</th>\n",
       "      <th>AGE</th>\n",
       "      <th>CATEGORY</th>\n",
       "      <th>EDUCATION</th>\n",
       "      <th>ASSETS</th>\n",
       "      <th>LIABILITIES</th>\n",
       "      <th>GENERAL\\nVOTES</th>\n",
       "      <th>POSTAL\\nVOTES</th>\n",
       "      <th>TOTAL\\nVOTES</th>\n",
       "      <th>OVER TOTAL ELECTORS \\nIN CONSTITUENCY</th>\n",
       "      <th>OVER TOTAL VOTES POLLED \\nIN CONSTITUENCY</th>\n",
       "      <th>TOTAL ELECTORS</th>\n",
       "    </tr>\n",
       "  </thead>\n",
       "  <tbody>\n",
       "    <tr>\n",
       "      <th>0</th>\n",
       "      <td>Telangana</td>\n",
       "      <td>ADILABAD</td>\n",
       "      <td>SOYAM BAPU RAO</td>\n",
       "      <td>1</td>\n",
       "      <td>BJP</td>\n",
       "      <td>Lotus</td>\n",
       "      <td>MALE</td>\n",
       "      <td>52</td>\n",
       "      <td>52.0</td>\n",
       "      <td>ST</td>\n",
       "      <td>12th Pass</td>\n",
       "      <td>Rs 30,99,414\\n ~ 30 Lacs+</td>\n",
       "      <td>Rs 2,31,450\\n ~ 2 Lacs+</td>\n",
       "      <td>376892</td>\n",
       "      <td>482</td>\n",
       "      <td>377374</td>\n",
       "      <td>25.330684</td>\n",
       "      <td>35.468248</td>\n",
       "      <td>1489790</td>\n",
       "    </tr>\n",
       "    <tr>\n",
       "      <th>1</th>\n",
       "      <td>Telangana</td>\n",
       "      <td>ADILABAD</td>\n",
       "      <td>Godam Nagesh</td>\n",
       "      <td>0</td>\n",
       "      <td>TRS</td>\n",
       "      <td>Car</td>\n",
       "      <td>MALE</td>\n",
       "      <td>0</td>\n",
       "      <td>54.0</td>\n",
       "      <td>ST</td>\n",
       "      <td>Post Graduate</td>\n",
       "      <td>Rs 1,84,77,888\\n ~ 1 Crore+</td>\n",
       "      <td>Rs 8,47,000\\n ~ 8 Lacs+</td>\n",
       "      <td>318665</td>\n",
       "      <td>149</td>\n",
       "      <td>318814</td>\n",
       "      <td>21.399929</td>\n",
       "      <td>29.964370</td>\n",
       "      <td>1489790</td>\n",
       "    </tr>\n",
       "    <tr>\n",
       "      <th>2</th>\n",
       "      <td>Telangana</td>\n",
       "      <td>ADILABAD</td>\n",
       "      <td>RATHOD RAMESH</td>\n",
       "      <td>0</td>\n",
       "      <td>INC</td>\n",
       "      <td>Hand</td>\n",
       "      <td>MALE</td>\n",
       "      <td>3</td>\n",
       "      <td>52.0</td>\n",
       "      <td>ST</td>\n",
       "      <td>12th Pass</td>\n",
       "      <td>Rs 3,64,91,000\\n ~ 3 Crore+</td>\n",
       "      <td>Rs 1,53,00,000\\n ~ 1 Crore+</td>\n",
       "      <td>314057</td>\n",
       "      <td>181</td>\n",
       "      <td>314238</td>\n",
       "      <td>21.092771</td>\n",
       "      <td>29.534285</td>\n",
       "      <td>1489790</td>\n",
       "    </tr>\n",
       "    <tr>\n",
       "      <th>3</th>\n",
       "      <td>Telangana</td>\n",
       "      <td>ADILABAD</td>\n",
       "      <td>NOTA</td>\n",
       "      <td>0</td>\n",
       "      <td>NOTA</td>\n",
       "      <td>NO SYMBOL</td>\n",
       "      <td>NO GENDER</td>\n",
       "      <td>0</td>\n",
       "      <td>0.0</td>\n",
       "      <td>NO CATEGORY</td>\n",
       "      <td>NO EDUCATION</td>\n",
       "      <td>0</td>\n",
       "      <td>0</td>\n",
       "      <td>13030</td>\n",
       "      <td>6</td>\n",
       "      <td>13036</td>\n",
       "      <td>0.875023</td>\n",
       "      <td>1.225214</td>\n",
       "      <td>1489790</td>\n",
       "    </tr>\n",
       "    <tr>\n",
       "      <th>4</th>\n",
       "      <td>Uttar Pradesh</td>\n",
       "      <td>AGRA</td>\n",
       "      <td>Satyapal Singh Baghel</td>\n",
       "      <td>1</td>\n",
       "      <td>BJP</td>\n",
       "      <td>Lotus</td>\n",
       "      <td>MALE</td>\n",
       "      <td>5</td>\n",
       "      <td>58.0</td>\n",
       "      <td>SC</td>\n",
       "      <td>Doctorate</td>\n",
       "      <td>Rs 7,42,74,036\\n ~ 7 Crore+</td>\n",
       "      <td>Rs 86,06,522\\n ~ 86 Lacs+</td>\n",
       "      <td>644459</td>\n",
       "      <td>2416</td>\n",
       "      <td>646875</td>\n",
       "      <td>33.383823</td>\n",
       "      <td>56.464615</td>\n",
       "      <td>1937690</td>\n",
       "    </tr>\n",
       "  </tbody>\n",
       "</table>\n",
       "</div>"
      ],
      "text/plain": [
       "           STATE CONSTITUENCY                   NAME  WINNER PARTY     SYMBOL  \\\n",
       "0      Telangana     ADILABAD         SOYAM BAPU RAO       1   BJP      Lotus   \n",
       "1      Telangana     ADILABAD           Godam Nagesh       0   TRS        Car   \n",
       "2      Telangana     ADILABAD          RATHOD RAMESH       0   INC       Hand   \n",
       "3      Telangana     ADILABAD                   NOTA       0  NOTA  NO SYMBOL   \n",
       "4  Uttar Pradesh         AGRA  Satyapal Singh Baghel       1   BJP      Lotus   \n",
       "\n",
       "      GENDER CRIMINAL\\nCASES   AGE     CATEGORY      EDUCATION  \\\n",
       "0       MALE              52  52.0           ST      12th Pass   \n",
       "1       MALE               0  54.0           ST  Post Graduate   \n",
       "2       MALE               3  52.0           ST      12th Pass   \n",
       "3  NO GENDER               0   0.0  NO CATEGORY   NO EDUCATION   \n",
       "4       MALE               5  58.0           SC      Doctorate   \n",
       "\n",
       "                        ASSETS                  LIABILITIES  GENERAL\\nVOTES  \\\n",
       "0    Rs 30,99,414\\n ~ 30 Lacs+      Rs 2,31,450\\n ~ 2 Lacs+          376892   \n",
       "1  Rs 1,84,77,888\\n ~ 1 Crore+      Rs 8,47,000\\n ~ 8 Lacs+          318665   \n",
       "2  Rs 3,64,91,000\\n ~ 3 Crore+  Rs 1,53,00,000\\n ~ 1 Crore+          314057   \n",
       "3                            0                            0           13030   \n",
       "4  Rs 7,42,74,036\\n ~ 7 Crore+    Rs 86,06,522\\n ~ 86 Lacs+          644459   \n",
       "\n",
       "   POSTAL\\nVOTES  TOTAL\\nVOTES  OVER TOTAL ELECTORS \\nIN CONSTITUENCY  \\\n",
       "0            482        377374                              25.330684   \n",
       "1            149        318814                              21.399929   \n",
       "2            181        314238                              21.092771   \n",
       "3              6         13036                               0.875023   \n",
       "4           2416        646875                              33.383823   \n",
       "\n",
       "   OVER TOTAL VOTES POLLED \\nIN CONSTITUENCY  TOTAL ELECTORS  \n",
       "0                                  35.468248         1489790  \n",
       "1                                  29.964370         1489790  \n",
       "2                                  29.534285         1489790  \n",
       "3                                   1.225214         1489790  \n",
       "4                                  56.464615         1937690  "
      ]
     },
     "execution_count": 223,
     "metadata": {},
     "output_type": "execute_result"
    }
   ],
   "source": [
    "LS_candidates=pd.read_csv(r\"C:\\Users\\jatanam\\Data Analytics Project-2/lok-sabha-candidate-details-2019.csv\")\n",
    "LS_candidates.head()\n",
    "LS_candidates['SYMBOL'].fillna('NO SYMBOL',inplace=True)\n",
    "LS_candidates['GENDER'].fillna('NO GENDER',inplace=True)\n",
    "LS_candidates['AGE'].fillna(0,inplace=True)\n",
    "LS_candidates['CATEGORY'].fillna('NO CATEGORY',inplace=True)\n",
    "LS_candidates['ASSETS'].fillna(0,inplace=True)\n",
    "LS_candidates['EDUCATION'].fillna('NO EDUCATION',inplace=True)\n",
    "LS_candidates['LIABILITIES'].fillna(0,inplace=True)\n",
    "LS_candidates['CRIMINAL\\nCASES'].fillna(0,inplace=True)\n",
    "LS_candidates.isnull().sum()\n",
    "LS_candidates[LS_candidates['NAME']=='NOTA'].head()\n",
    "LS_candidates.head()"
   ]
  },
  {
   "cell_type": "code",
   "execution_count": null,
   "metadata": {},
   "outputs": [],
   "source": []
  },
  {
   "cell_type": "code",
   "execution_count": 224,
   "metadata": {},
   "outputs": [
    {
     "data": {
      "text/html": [
       "<div>\n",
       "<style scoped>\n",
       "    .dataframe tbody tr th:only-of-type {\n",
       "        vertical-align: middle;\n",
       "    }\n",
       "\n",
       "    .dataframe tbody tr th {\n",
       "        vertical-align: top;\n",
       "    }\n",
       "\n",
       "    .dataframe thead th {\n",
       "        text-align: right;\n",
       "    }\n",
       "</style>\n",
       "<table border=\"1\" class=\"dataframe\">\n",
       "  <thead>\n",
       "    <tr style=\"text-align: right;\">\n",
       "      <th></th>\n",
       "      <th>state/ut</th>\n",
       "      <th>PC</th>\n",
       "      <th>candidate_name</th>\n",
       "      <th>party</th>\n",
       "      <th>evm_votes</th>\n",
       "      <th>postal_votes</th>\n",
       "      <th>total_votes</th>\n",
       "      <th>Rank</th>\n",
       "      <th>evm_after_log</th>\n",
       "      <th>postal_after_log</th>\n",
       "      <th>total_after_log</th>\n",
       "    </tr>\n",
       "  </thead>\n",
       "  <tbody>\n",
       "    <tr>\n",
       "      <th>0</th>\n",
       "      <td>Andhra Pradesh</td>\n",
       "      <td>Adilabad</td>\n",
       "      <td>GODAM NAGESH</td>\n",
       "      <td>Telangana Rashtra Samithi</td>\n",
       "      <td>425762</td>\n",
       "      <td>5085</td>\n",
       "      <td>430847</td>\n",
       "      <td>1</td>\n",
       "      <td>12.961638</td>\n",
       "      <td>8.534247</td>\n",
       "      <td>12.973511</td>\n",
       "    </tr>\n",
       "    <tr>\n",
       "      <th>1</th>\n",
       "      <td>Andhra Pradesh</td>\n",
       "      <td>Adilabad</td>\n",
       "      <td>NARESH</td>\n",
       "      <td>Indian National Congress</td>\n",
       "      <td>257994</td>\n",
       "      <td>1563</td>\n",
       "      <td>259557</td>\n",
       "      <td>2</td>\n",
       "      <td>12.460695</td>\n",
       "      <td>7.355002</td>\n",
       "      <td>12.466735</td>\n",
       "    </tr>\n",
       "    <tr>\n",
       "      <th>2</th>\n",
       "      <td>Andhra Pradesh</td>\n",
       "      <td>Adilabad</td>\n",
       "      <td>RAMESH RATHOD</td>\n",
       "      <td>Telugu Desam</td>\n",
       "      <td>182879</td>\n",
       "      <td>1319</td>\n",
       "      <td>184198</td>\n",
       "      <td>3</td>\n",
       "      <td>12.116585</td>\n",
       "      <td>7.185387</td>\n",
       "      <td>12.123772</td>\n",
       "    </tr>\n",
       "    <tr>\n",
       "      <th>3</th>\n",
       "      <td>Andhra Pradesh</td>\n",
       "      <td>Adilabad</td>\n",
       "      <td>RATHOD SADASHIV</td>\n",
       "      <td>Bahujan Samaj Party</td>\n",
       "      <td>94363</td>\n",
       "      <td>57</td>\n",
       "      <td>94420</td>\n",
       "      <td>4</td>\n",
       "      <td>11.454915</td>\n",
       "      <td>4.060443</td>\n",
       "      <td>11.455519</td>\n",
       "    </tr>\n",
       "    <tr>\n",
       "      <th>4</th>\n",
       "      <td>Andhra Pradesh</td>\n",
       "      <td>Adilabad</td>\n",
       "      <td>NETHAWATH RAMDAS</td>\n",
       "      <td>Independent</td>\n",
       "      <td>41028</td>\n",
       "      <td>4</td>\n",
       "      <td>41032</td>\n",
       "      <td>5</td>\n",
       "      <td>10.622034</td>\n",
       "      <td>1.609438</td>\n",
       "      <td>10.622132</td>\n",
       "    </tr>\n",
       "  </tbody>\n",
       "</table>\n",
       "</div>"
      ],
      "text/plain": [
       "         state/ut         PC    candidate_name                      party  \\\n",
       "0  Andhra Pradesh  Adilabad       GODAM NAGESH  Telangana Rashtra Samithi   \n",
       "1  Andhra Pradesh  Adilabad             NARESH   Indian National Congress   \n",
       "2  Andhra Pradesh  Adilabad      RAMESH RATHOD               Telugu Desam   \n",
       "3  Andhra Pradesh  Adilabad    RATHOD SADASHIV        Bahujan Samaj Party   \n",
       "4  Andhra Pradesh  Adilabad   NETHAWATH RAMDAS                Independent   \n",
       "\n",
       "   evm_votes  postal_votes  total_votes  Rank  evm_after_log  \\\n",
       "0     425762          5085       430847     1      12.961638   \n",
       "1     257994          1563       259557     2      12.460695   \n",
       "2     182879          1319       184198     3      12.116585   \n",
       "3      94363            57        94420     4      11.454915   \n",
       "4      41028             4        41032     5      10.622034   \n",
       "\n",
       "   postal_after_log  total_after_log  \n",
       "0          8.534247        12.973511  \n",
       "1          7.355002        12.466735  \n",
       "2          7.185387        12.123772  \n",
       "3          4.060443        11.455519  \n",
       "4          1.609438        10.622132  "
      ]
     },
     "execution_count": 224,
     "metadata": {},
     "output_type": "execute_result"
    }
   ],
   "source": [
    "ge14['evm_after_log']=np.log(np.array(ge14['evm_votes'])+1)\n",
    "ge14['postal_after_log']=np.log(np.array(ge14['postal_votes'])+1)\n",
    "ge14['total_after_log']=np.log(np.array(ge14['total_votes'])+1)\n",
    "ge14.head()"
   ]
  },
  {
   "cell_type": "code",
   "execution_count": 225,
   "metadata": {},
   "outputs": [
    {
     "data": {
      "text/html": [
       "<div>\n",
       "<style scoped>\n",
       "    .dataframe tbody tr th:only-of-type {\n",
       "        vertical-align: middle;\n",
       "    }\n",
       "\n",
       "    .dataframe tbody tr th {\n",
       "        vertical-align: top;\n",
       "    }\n",
       "\n",
       "    .dataframe thead th {\n",
       "        text-align: right;\n",
       "    }\n",
       "</style>\n",
       "<table border=\"1\" class=\"dataframe\">\n",
       "  <thead>\n",
       "    <tr style=\"text-align: right;\">\n",
       "      <th></th>\n",
       "      <th>state/ut</th>\n",
       "      <th>PC</th>\n",
       "      <th>candidate_name</th>\n",
       "      <th>party</th>\n",
       "      <th>evm_votes</th>\n",
       "      <th>postal_votes</th>\n",
       "      <th>migrant_votes</th>\n",
       "      <th>total_votes</th>\n",
       "      <th>percent_votes</th>\n",
       "      <th>rank</th>\n",
       "      <th>evm_after_log</th>\n",
       "      <th>postal_after_log</th>\n",
       "      <th>total_after_log</th>\n",
       "    </tr>\n",
       "  </thead>\n",
       "  <tbody>\n",
       "    <tr>\n",
       "      <th>0</th>\n",
       "      <td>Andaman &amp; Nicobar Islands</td>\n",
       "      <td>Andaman &amp; Nicobar Islands</td>\n",
       "      <td>KULDEEP RAI SHARMA</td>\n",
       "      <td>Indian National Congress</td>\n",
       "      <td>95249</td>\n",
       "      <td>59</td>\n",
       "      <td>0.0</td>\n",
       "      <td>95308</td>\n",
       "      <td>45.98</td>\n",
       "      <td>1</td>\n",
       "      <td>11.464260</td>\n",
       "      <td>4.094345</td>\n",
       "      <td>11.464880</td>\n",
       "    </tr>\n",
       "    <tr>\n",
       "      <th>1</th>\n",
       "      <td>Andaman &amp; Nicobar Islands</td>\n",
       "      <td>Andaman &amp; Nicobar Islands</td>\n",
       "      <td>VISHAL JOLLY</td>\n",
       "      <td>Bharatiya Janata Party</td>\n",
       "      <td>93772</td>\n",
       "      <td>129</td>\n",
       "      <td>0.0</td>\n",
       "      <td>93901</td>\n",
       "      <td>45.30</td>\n",
       "      <td>2</td>\n",
       "      <td>11.448632</td>\n",
       "      <td>4.867534</td>\n",
       "      <td>11.450007</td>\n",
       "    </tr>\n",
       "    <tr>\n",
       "      <th>2</th>\n",
       "      <td>Andaman &amp; Nicobar Islands</td>\n",
       "      <td>Andaman &amp; Nicobar Islands</td>\n",
       "      <td>PARITOSH KUMAR HALDAR</td>\n",
       "      <td>Independent</td>\n",
       "      <td>5339</td>\n",
       "      <td>2</td>\n",
       "      <td>0.0</td>\n",
       "      <td>5341</td>\n",
       "      <td>2.58</td>\n",
       "      <td>3</td>\n",
       "      <td>8.582981</td>\n",
       "      <td>1.098612</td>\n",
       "      <td>8.583355</td>\n",
       "    </tr>\n",
       "    <tr>\n",
       "      <th>3</th>\n",
       "      <td>Andaman &amp; Nicobar Islands</td>\n",
       "      <td>Andaman &amp; Nicobar Islands</td>\n",
       "      <td>SANJAY MESHACK</td>\n",
       "      <td>Aam Aadmi Party</td>\n",
       "      <td>2837</td>\n",
       "      <td>2</td>\n",
       "      <td>0.0</td>\n",
       "      <td>2839</td>\n",
       "      <td>1.37</td>\n",
       "      <td>4</td>\n",
       "      <td>7.950855</td>\n",
       "      <td>1.098612</td>\n",
       "      <td>7.951559</td>\n",
       "    </tr>\n",
       "    <tr>\n",
       "      <th>4</th>\n",
       "      <td>Andaman &amp; Nicobar Islands</td>\n",
       "      <td>Andaman &amp; Nicobar Islands</td>\n",
       "      <td>PRAKASH MINJ</td>\n",
       "      <td>Bahujan Samaj Party</td>\n",
       "      <td>2478</td>\n",
       "      <td>8</td>\n",
       "      <td>0.0</td>\n",
       "      <td>2486</td>\n",
       "      <td>1.20</td>\n",
       "      <td>5</td>\n",
       "      <td>7.815611</td>\n",
       "      <td>2.197225</td>\n",
       "      <td>7.818832</td>\n",
       "    </tr>\n",
       "  </tbody>\n",
       "</table>\n",
       "</div>"
      ],
      "text/plain": [
       "                    state/ut                         PC  \\\n",
       "0  Andaman & Nicobar Islands  Andaman & Nicobar Islands   \n",
       "1  Andaman & Nicobar Islands  Andaman & Nicobar Islands   \n",
       "2  Andaman & Nicobar Islands  Andaman & Nicobar Islands   \n",
       "3  Andaman & Nicobar Islands  Andaman & Nicobar Islands   \n",
       "4  Andaman & Nicobar Islands  Andaman & Nicobar Islands   \n",
       "\n",
       "          candidate_name                     party  evm_votes  postal_votes  \\\n",
       "0     KULDEEP RAI SHARMA  Indian National Congress      95249            59   \n",
       "1           VISHAL JOLLY    Bharatiya Janata Party      93772           129   \n",
       "2  PARITOSH KUMAR HALDAR               Independent       5339             2   \n",
       "3         SANJAY MESHACK           Aam Aadmi Party       2837             2   \n",
       "4           PRAKASH MINJ       Bahujan Samaj Party       2478             8   \n",
       "\n",
       "   migrant_votes  total_votes  percent_votes  rank  evm_after_log  \\\n",
       "0            0.0        95308          45.98     1      11.464260   \n",
       "1            0.0        93901          45.30     2      11.448632   \n",
       "2            0.0         5341           2.58     3       8.582981   \n",
       "3            0.0         2839           1.37     4       7.950855   \n",
       "4            0.0         2486           1.20     5       7.815611   \n",
       "\n",
       "   postal_after_log  total_after_log  \n",
       "0          4.094345        11.464880  \n",
       "1          4.867534        11.450007  \n",
       "2          1.098612         8.583355  \n",
       "3          1.098612         7.951559  \n",
       "4          2.197225         7.818832  "
      ]
     },
     "execution_count": 225,
     "metadata": {},
     "output_type": "execute_result"
    }
   ],
   "source": [
    "ge19['evm_after_log']=np.log(np.array(ge19['evm_votes'])+1)\n",
    "ge19['postal_after_log']=np.log(np.array(ge19['postal_votes'])+1)\n",
    "ge19['total_after_log']=np.log(np.array(ge19['total_votes'])+1)\n",
    "ge19.head()"
   ]
  },
  {
   "cell_type": "code",
   "execution_count": 226,
   "metadata": {},
   "outputs": [
    {
     "data": {
      "text/plain": [
       "'GEN'"
      ]
     },
     "execution_count": 226,
     "metadata": {},
     "output_type": "execute_result"
    }
   ],
   "source": [
    "NE['pc_type'].mode()[0]"
   ]
  },
  {
   "cell_type": "code",
   "execution_count": 227,
   "metadata": {},
   "outputs": [
    {
     "data": {
      "text/plain": [
       "st_name       0\n",
       "year          0\n",
       "pc_no         0\n",
       "pc_name       0\n",
       "pc_type       0\n",
       "cand_name     0\n",
       "cand_sex      0\n",
       "partyname     0\n",
       "partyabbre    0\n",
       "totvotpoll    0\n",
       "electors      0\n",
       "dtype: int64"
      ]
     },
     "execution_count": 227,
     "metadata": {},
     "output_type": "execute_result"
    }
   ],
   "source": [
    "NE.dropna(how='any',inplace=True)\n",
    "NE.isnull().sum()"
   ]
  },
  {
   "cell_type": "code",
   "execution_count": 228,
   "metadata": {},
   "outputs": [
    {
     "data": {
      "text/html": [
       "<div>\n",
       "<style scoped>\n",
       "    .dataframe tbody tr th:only-of-type {\n",
       "        vertical-align: middle;\n",
       "    }\n",
       "\n",
       "    .dataframe tbody tr th {\n",
       "        vertical-align: top;\n",
       "    }\n",
       "\n",
       "    .dataframe thead th {\n",
       "        text-align: right;\n",
       "    }\n",
       "</style>\n",
       "<table border=\"1\" class=\"dataframe\">\n",
       "  <thead>\n",
       "    <tr style=\"text-align: right;\">\n",
       "      <th></th>\n",
       "      <th>st_name</th>\n",
       "      <th>year</th>\n",
       "      <th>pc_no</th>\n",
       "      <th>pc_name</th>\n",
       "      <th>pc_type</th>\n",
       "      <th>cand_name</th>\n",
       "      <th>cand_sex</th>\n",
       "      <th>partyname</th>\n",
       "      <th>partyabbre</th>\n",
       "      <th>totvotpoll</th>\n",
       "      <th>electors</th>\n",
       "      <th>totvot_log</th>\n",
       "      <th>electors_log</th>\n",
       "    </tr>\n",
       "  </thead>\n",
       "  <tbody>\n",
       "    <tr>\n",
       "      <th>0</th>\n",
       "      <td>Andaman &amp; Nicobar Islands</td>\n",
       "      <td>1977</td>\n",
       "      <td>1</td>\n",
       "      <td>Andaman &amp; Nicobar Islands</td>\n",
       "      <td>GEN</td>\n",
       "      <td>K.R. Ganesh</td>\n",
       "      <td>M</td>\n",
       "      <td>Independents</td>\n",
       "      <td>IND</td>\n",
       "      <td>25168</td>\n",
       "      <td>85308</td>\n",
       "      <td>10.133368</td>\n",
       "      <td>11.354035</td>\n",
       "    </tr>\n",
       "    <tr>\n",
       "      <th>1</th>\n",
       "      <td>Andaman &amp; Nicobar Islands</td>\n",
       "      <td>1977</td>\n",
       "      <td>1</td>\n",
       "      <td>Andaman &amp; Nicobar Islands</td>\n",
       "      <td>GEN</td>\n",
       "      <td>Manoranjan Bhakta</td>\n",
       "      <td>M</td>\n",
       "      <td>Indian National Congress</td>\n",
       "      <td>INC</td>\n",
       "      <td>35400</td>\n",
       "      <td>85308</td>\n",
       "      <td>10.474495</td>\n",
       "      <td>11.354035</td>\n",
       "    </tr>\n",
       "    <tr>\n",
       "      <th>2</th>\n",
       "      <td>Andaman &amp; Nicobar Islands</td>\n",
       "      <td>1980</td>\n",
       "      <td>1</td>\n",
       "      <td>Andaman &amp; Nicobar Islands</td>\n",
       "      <td>GEN</td>\n",
       "      <td>Ramesh Mazumdar</td>\n",
       "      <td>M</td>\n",
       "      <td>Independents</td>\n",
       "      <td>IND</td>\n",
       "      <td>109</td>\n",
       "      <td>96084</td>\n",
       "      <td>4.700480</td>\n",
       "      <td>11.472988</td>\n",
       "    </tr>\n",
       "    <tr>\n",
       "      <th>3</th>\n",
       "      <td>Andaman &amp; Nicobar Islands</td>\n",
       "      <td>1980</td>\n",
       "      <td>1</td>\n",
       "      <td>Andaman &amp; Nicobar Islands</td>\n",
       "      <td>GEN</td>\n",
       "      <td>Alagiri Swamy</td>\n",
       "      <td>M</td>\n",
       "      <td>Independents</td>\n",
       "      <td>IND</td>\n",
       "      <td>125</td>\n",
       "      <td>96084</td>\n",
       "      <td>4.836282</td>\n",
       "      <td>11.472988</td>\n",
       "    </tr>\n",
       "    <tr>\n",
       "      <th>4</th>\n",
       "      <td>Andaman &amp; Nicobar Islands</td>\n",
       "      <td>1980</td>\n",
       "      <td>1</td>\n",
       "      <td>Andaman &amp; Nicobar Islands</td>\n",
       "      <td>GEN</td>\n",
       "      <td>Kannu Chemy</td>\n",
       "      <td>M</td>\n",
       "      <td>Independents</td>\n",
       "      <td>IND</td>\n",
       "      <td>405</td>\n",
       "      <td>96084</td>\n",
       "      <td>6.006353</td>\n",
       "      <td>11.472988</td>\n",
       "    </tr>\n",
       "  </tbody>\n",
       "</table>\n",
       "</div>"
      ],
      "text/plain": [
       "                     st_name  year  pc_no                    pc_name pc_type  \\\n",
       "0  Andaman & Nicobar Islands  1977      1  Andaman & Nicobar Islands     GEN   \n",
       "1  Andaman & Nicobar Islands  1977      1  Andaman & Nicobar Islands     GEN   \n",
       "2  Andaman & Nicobar Islands  1980      1  Andaman & Nicobar Islands     GEN   \n",
       "3  Andaman & Nicobar Islands  1980      1  Andaman & Nicobar Islands     GEN   \n",
       "4  Andaman & Nicobar Islands  1980      1  Andaman & Nicobar Islands     GEN   \n",
       "\n",
       "           cand_name cand_sex                 partyname partyabbre  \\\n",
       "0        K.R. Ganesh        M              Independents        IND   \n",
       "1  Manoranjan Bhakta        M  Indian National Congress        INC   \n",
       "2    Ramesh Mazumdar        M              Independents        IND   \n",
       "3      Alagiri Swamy        M              Independents        IND   \n",
       "4        Kannu Chemy        M              Independents        IND   \n",
       "\n",
       "   totvotpoll  electors  totvot_log  electors_log  \n",
       "0       25168     85308   10.133368     11.354035  \n",
       "1       35400     85308   10.474495     11.354035  \n",
       "2         109     96084    4.700480     11.472988  \n",
       "3         125     96084    4.836282     11.472988  \n",
       "4         405     96084    6.006353     11.472988  "
      ]
     },
     "execution_count": 228,
     "metadata": {},
     "output_type": "execute_result"
    }
   ],
   "source": [
    "NE['totvot_log']=np.log(np.array(NE['totvotpoll'])+1)\n",
    "NE['electors_log']=np.log(np.array(NE['electors'])+1)\n",
    "NE.head()"
   ]
  },
  {
   "cell_type": "code",
   "execution_count": 229,
   "metadata": {},
   "outputs": [
    {
     "data": {
      "text/plain": [
       "Candidate         0\n",
       "Party             0\n",
       "Criminal Cases    0\n",
       "Education         0\n",
       "Age               0\n",
       "Total Assets      0\n",
       "Constituency      0\n",
       "Liabilities       0\n",
       "Winner            0\n",
       "Gender            0\n",
       "dtype: int64"
      ]
     },
     "execution_count": 229,
     "metadata": {},
     "output_type": "execute_result"
    }
   ],
   "source": [
    "LS_1.isnull().sum()"
   ]
  },
  {
   "cell_type": "code",
   "execution_count": 230,
   "metadata": {},
   "outputs": [
    {
     "data": {
      "text/html": [
       "<div>\n",
       "<style scoped>\n",
       "    .dataframe tbody tr th:only-of-type {\n",
       "        vertical-align: middle;\n",
       "    }\n",
       "\n",
       "    .dataframe tbody tr th {\n",
       "        vertical-align: top;\n",
       "    }\n",
       "\n",
       "    .dataframe thead th {\n",
       "        text-align: right;\n",
       "    }\n",
       "</style>\n",
       "<table border=\"1\" class=\"dataframe\">\n",
       "  <thead>\n",
       "    <tr style=\"text-align: right;\">\n",
       "      <th></th>\n",
       "      <th>Candidate</th>\n",
       "      <th>Party</th>\n",
       "      <th>Criminal Cases</th>\n",
       "      <th>Education</th>\n",
       "      <th>Age</th>\n",
       "      <th>Total Assets</th>\n",
       "      <th>Constituency</th>\n",
       "      <th>Liabilities</th>\n",
       "      <th>Winner</th>\n",
       "      <th>Gender</th>\n",
       "      <th>Total Assets_log</th>\n",
       "      <th>Liabilities_log</th>\n",
       "    </tr>\n",
       "  </thead>\n",
       "  <tbody>\n",
       "    <tr>\n",
       "      <th>0</th>\n",
       "      <td>Shri Bishnu Pada Ray</td>\n",
       "      <td>BJP</td>\n",
       "      <td>1</td>\n",
       "      <td>Graduate</td>\n",
       "      <td>59</td>\n",
       "      <td>1241034.0</td>\n",
       "      <td>Andaman &amp; Nicobar Islands</td>\n",
       "      <td>0</td>\n",
       "      <td>0</td>\n",
       "      <td>M</td>\n",
       "      <td>14.031456</td>\n",
       "      <td>0.000000</td>\n",
       "    </tr>\n",
       "    <tr>\n",
       "      <th>1</th>\n",
       "      <td>Shri P. R. Ganeshan</td>\n",
       "      <td>RJD</td>\n",
       "      <td>0</td>\n",
       "      <td>Not Given</td>\n",
       "      <td>71</td>\n",
       "      <td>329563.0</td>\n",
       "      <td>Andaman &amp; Nicobar Islands</td>\n",
       "      <td>0</td>\n",
       "      <td>0</td>\n",
       "      <td>M</td>\n",
       "      <td>12.705526</td>\n",
       "      <td>0.000000</td>\n",
       "    </tr>\n",
       "    <tr>\n",
       "      <th>2</th>\n",
       "      <td>Shri Pradeep Kumar Ekka</td>\n",
       "      <td>JDP</td>\n",
       "      <td>0</td>\n",
       "      <td>Others</td>\n",
       "      <td>37</td>\n",
       "      <td>410000.0</td>\n",
       "      <td>Andaman &amp; Nicobar Islands</td>\n",
       "      <td>0</td>\n",
       "      <td>0</td>\n",
       "      <td>M</td>\n",
       "      <td>12.923915</td>\n",
       "      <td>0.000000</td>\n",
       "    </tr>\n",
       "    <tr>\n",
       "      <th>3</th>\n",
       "      <td>Shri T. Ali</td>\n",
       "      <td>IND</td>\n",
       "      <td>0</td>\n",
       "      <td>12th Pass</td>\n",
       "      <td>37</td>\n",
       "      <td>445957.0</td>\n",
       "      <td>Andaman &amp; Nicobar Islands</td>\n",
       "      <td>296000</td>\n",
       "      <td>0</td>\n",
       "      <td>M</td>\n",
       "      <td>13.007980</td>\n",
       "      <td>12.598118</td>\n",
       "    </tr>\n",
       "    <tr>\n",
       "      <th>4</th>\n",
       "      <td>Shri Tapan Kumar Bepari</td>\n",
       "      <td>CPM</td>\n",
       "      <td>0</td>\n",
       "      <td>Post Graduate</td>\n",
       "      <td>52</td>\n",
       "      <td>3986000.0</td>\n",
       "      <td>Andaman &amp; Nicobar Islands</td>\n",
       "      <td>0</td>\n",
       "      <td>0</td>\n",
       "      <td>M</td>\n",
       "      <td>15.198299</td>\n",
       "      <td>0.000000</td>\n",
       "    </tr>\n",
       "  </tbody>\n",
       "</table>\n",
       "</div>"
      ],
      "text/plain": [
       "                 Candidate Party  Criminal Cases      Education  Age  \\\n",
       "0     Shri Bishnu Pada Ray   BJP               1       Graduate   59   \n",
       "1      Shri P. R. Ganeshan   RJD               0      Not Given   71   \n",
       "2  Shri Pradeep Kumar Ekka   JDP               0         Others   37   \n",
       "3              Shri T. Ali   IND               0      12th Pass   37   \n",
       "4  Shri Tapan Kumar Bepari   CPM               0  Post Graduate   52   \n",
       "\n",
       "   Total Assets               Constituency  Liabilities  Winner Gender  \\\n",
       "0     1241034.0  Andaman & Nicobar Islands            0       0      M   \n",
       "1      329563.0  Andaman & Nicobar Islands            0       0      M   \n",
       "2      410000.0  Andaman & Nicobar Islands            0       0      M   \n",
       "3      445957.0  Andaman & Nicobar Islands       296000       0      M   \n",
       "4     3986000.0  Andaman & Nicobar Islands            0       0      M   \n",
       "\n",
       "   Total Assets_log  Liabilities_log  \n",
       "0         14.031456         0.000000  \n",
       "1         12.705526         0.000000  \n",
       "2         12.923915         0.000000  \n",
       "3         13.007980        12.598118  \n",
       "4         15.198299         0.000000  "
      ]
     },
     "execution_count": 230,
     "metadata": {},
     "output_type": "execute_result"
    }
   ],
   "source": [
    "LS_1['Total Assets_log']=np.log(np.array(LS_1['Total Assets'])+1)\n",
    "LS_1['Liabilities_log']=np.log(np.array(LS_1['Liabilities'])+1)\n",
    "LS_1.head()"
   ]
  },
  {
   "cell_type": "code",
   "execution_count": 444,
   "metadata": {},
   "outputs": [
    {
     "data": {
      "text/html": [
       "<div>\n",
       "<style scoped>\n",
       "    .dataframe tbody tr th:only-of-type {\n",
       "        vertical-align: middle;\n",
       "    }\n",
       "\n",
       "    .dataframe tbody tr th {\n",
       "        vertical-align: top;\n",
       "    }\n",
       "\n",
       "    .dataframe thead th {\n",
       "        text-align: right;\n",
       "    }\n",
       "</style>\n",
       "<table border=\"1\" class=\"dataframe\">\n",
       "  <thead>\n",
       "    <tr style=\"text-align: right;\">\n",
       "      <th></th>\n",
       "      <th>STATE</th>\n",
       "      <th>CONSTITUENCY</th>\n",
       "      <th>NAME</th>\n",
       "      <th>WINNER</th>\n",
       "      <th>PARTY</th>\n",
       "      <th>SYMBOL</th>\n",
       "      <th>GENDER</th>\n",
       "      <th>CRIMINAL\\nCASES</th>\n",
       "      <th>AGE</th>\n",
       "      <th>CATEGORY</th>\n",
       "      <th>...</th>\n",
       "      <th>GENERAL\\nVOTES</th>\n",
       "      <th>POSTAL\\nVOTES</th>\n",
       "      <th>TOTAL\\nVOTES</th>\n",
       "      <th>OVER TOTAL ELECTORS \\nIN CONSTITUENCY</th>\n",
       "      <th>OVER TOTAL VOTES POLLED \\nIN CONSTITUENCY</th>\n",
       "      <th>TOTAL ELECTORS</th>\n",
       "      <th>GENERAL_VOTES_log</th>\n",
       "      <th>POSTAL_VOTES_log</th>\n",
       "      <th>TOTAL_VOTES_log</th>\n",
       "      <th>TOTAL ELECTORS_log</th>\n",
       "    </tr>\n",
       "  </thead>\n",
       "  <tbody>\n",
       "    <tr>\n",
       "      <th>0</th>\n",
       "      <td>Telangana</td>\n",
       "      <td>ADILABAD</td>\n",
       "      <td>SOYAM BAPU RAO</td>\n",
       "      <td>1</td>\n",
       "      <td>BJP</td>\n",
       "      <td>Lotus</td>\n",
       "      <td>MALE</td>\n",
       "      <td>52</td>\n",
       "      <td>52.0</td>\n",
       "      <td>ST</td>\n",
       "      <td>...</td>\n",
       "      <td>376892</td>\n",
       "      <td>482</td>\n",
       "      <td>377374</td>\n",
       "      <td>25.330684</td>\n",
       "      <td>35.468248</td>\n",
       "      <td>1489790</td>\n",
       "      <td>12.839717</td>\n",
       "      <td>6.180017</td>\n",
       "      <td>12.840995</td>\n",
       "      <td>14.214146</td>\n",
       "    </tr>\n",
       "    <tr>\n",
       "      <th>1</th>\n",
       "      <td>Telangana</td>\n",
       "      <td>ADILABAD</td>\n",
       "      <td>Godam Nagesh</td>\n",
       "      <td>0</td>\n",
       "      <td>TRS</td>\n",
       "      <td>Car</td>\n",
       "      <td>MALE</td>\n",
       "      <td>0</td>\n",
       "      <td>54.0</td>\n",
       "      <td>ST</td>\n",
       "      <td>...</td>\n",
       "      <td>318665</td>\n",
       "      <td>149</td>\n",
       "      <td>318814</td>\n",
       "      <td>21.399929</td>\n",
       "      <td>29.964370</td>\n",
       "      <td>1489790</td>\n",
       "      <td>12.671899</td>\n",
       "      <td>5.010635</td>\n",
       "      <td>12.672366</td>\n",
       "      <td>14.214146</td>\n",
       "    </tr>\n",
       "    <tr>\n",
       "      <th>2</th>\n",
       "      <td>Telangana</td>\n",
       "      <td>ADILABAD</td>\n",
       "      <td>RATHOD RAMESH</td>\n",
       "      <td>0</td>\n",
       "      <td>INC</td>\n",
       "      <td>Hand</td>\n",
       "      <td>MALE</td>\n",
       "      <td>3</td>\n",
       "      <td>52.0</td>\n",
       "      <td>ST</td>\n",
       "      <td>...</td>\n",
       "      <td>314057</td>\n",
       "      <td>181</td>\n",
       "      <td>314238</td>\n",
       "      <td>21.092771</td>\n",
       "      <td>29.534285</td>\n",
       "      <td>1489790</td>\n",
       "      <td>12.657333</td>\n",
       "      <td>5.204007</td>\n",
       "      <td>12.657909</td>\n",
       "      <td>14.214146</td>\n",
       "    </tr>\n",
       "    <tr>\n",
       "      <th>3</th>\n",
       "      <td>Telangana</td>\n",
       "      <td>ADILABAD</td>\n",
       "      <td>NOTA</td>\n",
       "      <td>0</td>\n",
       "      <td>NOTA</td>\n",
       "      <td>NO SYMBOL</td>\n",
       "      <td>NO GENDER</td>\n",
       "      <td>0</td>\n",
       "      <td>0.0</td>\n",
       "      <td>NO CATEGORY</td>\n",
       "      <td>...</td>\n",
       "      <td>13030</td>\n",
       "      <td>6</td>\n",
       "      <td>13036</td>\n",
       "      <td>0.875023</td>\n",
       "      <td>1.225214</td>\n",
       "      <td>1489790</td>\n",
       "      <td>9.475086</td>\n",
       "      <td>1.945910</td>\n",
       "      <td>9.475547</td>\n",
       "      <td>14.214146</td>\n",
       "    </tr>\n",
       "    <tr>\n",
       "      <th>4</th>\n",
       "      <td>Uttar Pradesh</td>\n",
       "      <td>AGRA</td>\n",
       "      <td>Satyapal Singh Baghel</td>\n",
       "      <td>1</td>\n",
       "      <td>BJP</td>\n",
       "      <td>Lotus</td>\n",
       "      <td>MALE</td>\n",
       "      <td>5</td>\n",
       "      <td>58.0</td>\n",
       "      <td>SC</td>\n",
       "      <td>...</td>\n",
       "      <td>644459</td>\n",
       "      <td>2416</td>\n",
       "      <td>646875</td>\n",
       "      <td>33.383823</td>\n",
       "      <td>56.464615</td>\n",
       "      <td>1937690</td>\n",
       "      <td>13.376168</td>\n",
       "      <td>7.790282</td>\n",
       "      <td>13.379910</td>\n",
       "      <td>14.477008</td>\n",
       "    </tr>\n",
       "  </tbody>\n",
       "</table>\n",
       "<p>5 rows × 23 columns</p>\n",
       "</div>"
      ],
      "text/plain": [
       "           STATE CONSTITUENCY                   NAME  WINNER PARTY     SYMBOL  \\\n",
       "0      Telangana     ADILABAD         SOYAM BAPU RAO       1   BJP      Lotus   \n",
       "1      Telangana     ADILABAD           Godam Nagesh       0   TRS        Car   \n",
       "2      Telangana     ADILABAD          RATHOD RAMESH       0   INC       Hand   \n",
       "3      Telangana     ADILABAD                   NOTA       0  NOTA  NO SYMBOL   \n",
       "4  Uttar Pradesh         AGRA  Satyapal Singh Baghel       1   BJP      Lotus   \n",
       "\n",
       "      GENDER  CRIMINAL\\nCASES   AGE     CATEGORY  ... GENERAL\\nVOTES  \\\n",
       "0       MALE               52  52.0           ST  ...         376892   \n",
       "1       MALE                0  54.0           ST  ...         318665   \n",
       "2       MALE                3  52.0           ST  ...         314057   \n",
       "3  NO GENDER                0   0.0  NO CATEGORY  ...          13030   \n",
       "4       MALE                5  58.0           SC  ...         644459   \n",
       "\n",
       "  POSTAL\\nVOTES TOTAL\\nVOTES  OVER TOTAL ELECTORS \\nIN CONSTITUENCY  \\\n",
       "0           482       377374                              25.330684   \n",
       "1           149       318814                              21.399929   \n",
       "2           181       314238                              21.092771   \n",
       "3             6        13036                               0.875023   \n",
       "4          2416       646875                              33.383823   \n",
       "\n",
       "   OVER TOTAL VOTES POLLED \\nIN CONSTITUENCY  TOTAL ELECTORS  \\\n",
       "0                                  35.468248         1489790   \n",
       "1                                  29.964370         1489790   \n",
       "2                                  29.534285         1489790   \n",
       "3                                   1.225214         1489790   \n",
       "4                                  56.464615         1937690   \n",
       "\n",
       "   GENERAL_VOTES_log  POSTAL_VOTES_log  TOTAL_VOTES_log  TOTAL ELECTORS_log  \n",
       "0          12.839717          6.180017        12.840995           14.214146  \n",
       "1          12.671899          5.010635        12.672366           14.214146  \n",
       "2          12.657333          5.204007        12.657909           14.214146  \n",
       "3           9.475086          1.945910         9.475547           14.214146  \n",
       "4          13.376168          7.790282        13.379910           14.477008  \n",
       "\n",
       "[5 rows x 23 columns]"
      ]
     },
     "execution_count": 444,
     "metadata": {},
     "output_type": "execute_result"
    }
   ],
   "source": [
    "LS_candidates['GENERAL_VOTES_log']=np.log(np.array(LS_candidates['GENERAL\\nVOTES'])+1)\n",
    "LS_candidates['POSTAL_VOTES_log']=np.log(np.array(LS_candidates['POSTAL\\nVOTES'])+1)\n",
    "LS_candidates['TOTAL_VOTES_log']=np.log(np.array(LS_candidates['TOTAL\\nVOTES'])+1)\n",
    "LS_candidates['TOTAL ELECTORS_log']=np.log(np.array(LS_candidates['TOTAL ELECTORS'])+1)\n",
    "LS_candidates.head()\n",
    "LS_candidates['CRIMINAL\\nCASES'] = LS_candidates['CRIMINAL\\nCASES'].replace(['Not Available'],'0')\n",
    "LS_candidates['EDUCATION'] = LS_candidates['EDUCATION'].replace(['Not Available'],'NO EDUCATION')\n",
    "LS_candidates['LIABILITIES'] = LS_candidates['LIABILITIES'].replace(['Not Available'],'RS 0')\n",
    "LS_candidates['ASSETS'] = LS_candidates['ASSETS'].replace(['Not Available'],'RS')\n",
    "LS_candidates.head()"
   ]
  },
  {
   "cell_type": "code",
   "execution_count": 460,
   "metadata": {},
   "outputs": [
    {
     "data": {
      "application/vnd.plotly.v1+json": {
       "config": {
        "plotlyServerURL": "https://plot.ly"
       },
       "data": [
        {
         "domain": {
          "x": [
           0,
           1
          ],
          "y": [
           0,
           1
          ]
         },
         "hovertemplate": "label=%{label}<br>value=%{value}<extra></extra>",
         "labels": [
          "BJP",
          "TRS",
          "INC",
          "NOTA",
          "BSP",
          "NCP",
          "VBA",
          "APoI",
          "CPI(M)",
          "BDJS",
          "AITC",
          "RSP",
          "SP",
          "YSRCP",
          "TDP",
          "JnP",
          "INLD",
          "SBSP",
          "IND",
          "SHS",
          "AAP",
          "SAD",
          "JKN",
          "JKPDP",
          "JPC",
          "DMK",
          "PMK",
          "NTK",
          "MNM",
          "AIADMK",
          "RJD",
          "CPI(ML)(L)",
          "SSD",
          "PPA",
          "JD(S)",
          "NPEP",
          "BMUP",
          "BJD",
          "AIMIM",
          "HAMS",
          "AHFBK",
          "PPID",
          "SPL",
          "ASDC",
          "RLD",
          "PSPL",
          "JD(U)",
          "BTP",
          "AIFB",
          "AGP",
          "AIUDF",
          "ABSKP",
          "PUNEKP",
          "RTORP",
          "JNJP",
          "LTSP",
          "RVNP",
          "JANADIP",
          "SDPI",
          "DMDK",
          "ABGP",
          "VCK",
          "JMM",
          "LIP",
          "JDR",
          "MOSP",
          "MADP",
          "AJPR",
          "PMP",
          "BBMP",
          "AJSUP",
          "JVM",
          "RMPOI",
          "LJP",
          "BJKVP",
          "SWP",
          "NEINDP",
          "RSPSR",
          "ravp",
          "RSOSP",
          "BLSP",
          "WPOI",
          "SUCI(C)",
          "SJDD",
          "ANC",
          "JDL",
          "VSIP",
          "AAM",
          "JKP",
          "BOPF",
          "UPPL",
          "CPIM",
          "GGP",
          "KEC(M)",
          "KEC",
          "JAPL",
          "AKBMP",
          "TJS",
          "IUML",
          "BSCP",
          "ADAL",
          "BRPI",
          "MNF",
          "PRISMP",
          "VPI",
          "YKP",
          "NDPP",
          "RLTP",
          "RAHIS",
          "NPF",
          "BLSD",
          "BVA",
          "NAWPP",
          "AINRC",
          "BNDl",
          "MSHP",
          "BARESP",
          "BLRP",
          "AIPF",
          "WAP",
          "VCSMP",
          "SAD(M)",
          "UDP",
          "SKM",
          "SDF",
          "PDP",
          "JHP",
          "TMC(M)",
          "IPFT",
          "JKNPP",
          "DSSP",
          "AHNP",
          "PHJSP"
         ],
         "legendgroup": "",
         "name": "",
         "showlegend": true,
         "type": "pie",
         "values": [
          300,
          9,
          52,
          0,
          11,
          5,
          0,
          0,
          5,
          0,
          22,
          1,
          5,
          22,
          3,
          0,
          0,
          0,
          4,
          18,
          1,
          2,
          3,
          0,
          0,
          23,
          0,
          0,
          0,
          1,
          0,
          0,
          0,
          0,
          1,
          1,
          0,
          11,
          2,
          0,
          0,
          0,
          0,
          0,
          0,
          0,
          16,
          0,
          0,
          0,
          1,
          0,
          0,
          0,
          0,
          0,
          0,
          0,
          0,
          0,
          0,
          1,
          1,
          0,
          0,
          0,
          0,
          0,
          0,
          0,
          1,
          0,
          0,
          6,
          0,
          0,
          0,
          0,
          0,
          0,
          0,
          0,
          0,
          0,
          0,
          0,
          0,
          0,
          0,
          0,
          0,
          0,
          0,
          1,
          0,
          0,
          0,
          0,
          3,
          0,
          2,
          0,
          1,
          0,
          0,
          0,
          1,
          1,
          0,
          1,
          0,
          0,
          0,
          0,
          0,
          0,
          0,
          0,
          0,
          0,
          0,
          0,
          0,
          1,
          0,
          0,
          0,
          0,
          0,
          0,
          0,
          0,
          0
         ]
        }
       ],
       "layout": {
        "legend": {
         "tracegroupgap": 0
        },
        "template": {
         "data": {
          "bar": [
           {
            "error_x": {
             "color": "#2a3f5f"
            },
            "error_y": {
             "color": "#2a3f5f"
            },
            "marker": {
             "line": {
              "color": "#E5ECF6",
              "width": 0.5
             }
            },
            "type": "bar"
           }
          ],
          "barpolar": [
           {
            "marker": {
             "line": {
              "color": "#E5ECF6",
              "width": 0.5
             }
            },
            "type": "barpolar"
           }
          ],
          "carpet": [
           {
            "aaxis": {
             "endlinecolor": "#2a3f5f",
             "gridcolor": "white",
             "linecolor": "white",
             "minorgridcolor": "white",
             "startlinecolor": "#2a3f5f"
            },
            "baxis": {
             "endlinecolor": "#2a3f5f",
             "gridcolor": "white",
             "linecolor": "white",
             "minorgridcolor": "white",
             "startlinecolor": "#2a3f5f"
            },
            "type": "carpet"
           }
          ],
          "choropleth": [
           {
            "colorbar": {
             "outlinewidth": 0,
             "ticks": ""
            },
            "type": "choropleth"
           }
          ],
          "contour": [
           {
            "colorbar": {
             "outlinewidth": 0,
             "ticks": ""
            },
            "colorscale": [
             [
              0,
              "#0d0887"
             ],
             [
              0.1111111111111111,
              "#46039f"
             ],
             [
              0.2222222222222222,
              "#7201a8"
             ],
             [
              0.3333333333333333,
              "#9c179e"
             ],
             [
              0.4444444444444444,
              "#bd3786"
             ],
             [
              0.5555555555555556,
              "#d8576b"
             ],
             [
              0.6666666666666666,
              "#ed7953"
             ],
             [
              0.7777777777777778,
              "#fb9f3a"
             ],
             [
              0.8888888888888888,
              "#fdca26"
             ],
             [
              1,
              "#f0f921"
             ]
            ],
            "type": "contour"
           }
          ],
          "contourcarpet": [
           {
            "colorbar": {
             "outlinewidth": 0,
             "ticks": ""
            },
            "type": "contourcarpet"
           }
          ],
          "heatmap": [
           {
            "colorbar": {
             "outlinewidth": 0,
             "ticks": ""
            },
            "colorscale": [
             [
              0,
              "#0d0887"
             ],
             [
              0.1111111111111111,
              "#46039f"
             ],
             [
              0.2222222222222222,
              "#7201a8"
             ],
             [
              0.3333333333333333,
              "#9c179e"
             ],
             [
              0.4444444444444444,
              "#bd3786"
             ],
             [
              0.5555555555555556,
              "#d8576b"
             ],
             [
              0.6666666666666666,
              "#ed7953"
             ],
             [
              0.7777777777777778,
              "#fb9f3a"
             ],
             [
              0.8888888888888888,
              "#fdca26"
             ],
             [
              1,
              "#f0f921"
             ]
            ],
            "type": "heatmap"
           }
          ],
          "heatmapgl": [
           {
            "colorbar": {
             "outlinewidth": 0,
             "ticks": ""
            },
            "colorscale": [
             [
              0,
              "#0d0887"
             ],
             [
              0.1111111111111111,
              "#46039f"
             ],
             [
              0.2222222222222222,
              "#7201a8"
             ],
             [
              0.3333333333333333,
              "#9c179e"
             ],
             [
              0.4444444444444444,
              "#bd3786"
             ],
             [
              0.5555555555555556,
              "#d8576b"
             ],
             [
              0.6666666666666666,
              "#ed7953"
             ],
             [
              0.7777777777777778,
              "#fb9f3a"
             ],
             [
              0.8888888888888888,
              "#fdca26"
             ],
             [
              1,
              "#f0f921"
             ]
            ],
            "type": "heatmapgl"
           }
          ],
          "histogram": [
           {
            "marker": {
             "colorbar": {
              "outlinewidth": 0,
              "ticks": ""
             }
            },
            "type": "histogram"
           }
          ],
          "histogram2d": [
           {
            "colorbar": {
             "outlinewidth": 0,
             "ticks": ""
            },
            "colorscale": [
             [
              0,
              "#0d0887"
             ],
             [
              0.1111111111111111,
              "#46039f"
             ],
             [
              0.2222222222222222,
              "#7201a8"
             ],
             [
              0.3333333333333333,
              "#9c179e"
             ],
             [
              0.4444444444444444,
              "#bd3786"
             ],
             [
              0.5555555555555556,
              "#d8576b"
             ],
             [
              0.6666666666666666,
              "#ed7953"
             ],
             [
              0.7777777777777778,
              "#fb9f3a"
             ],
             [
              0.8888888888888888,
              "#fdca26"
             ],
             [
              1,
              "#f0f921"
             ]
            ],
            "type": "histogram2d"
           }
          ],
          "histogram2dcontour": [
           {
            "colorbar": {
             "outlinewidth": 0,
             "ticks": ""
            },
            "colorscale": [
             [
              0,
              "#0d0887"
             ],
             [
              0.1111111111111111,
              "#46039f"
             ],
             [
              0.2222222222222222,
              "#7201a8"
             ],
             [
              0.3333333333333333,
              "#9c179e"
             ],
             [
              0.4444444444444444,
              "#bd3786"
             ],
             [
              0.5555555555555556,
              "#d8576b"
             ],
             [
              0.6666666666666666,
              "#ed7953"
             ],
             [
              0.7777777777777778,
              "#fb9f3a"
             ],
             [
              0.8888888888888888,
              "#fdca26"
             ],
             [
              1,
              "#f0f921"
             ]
            ],
            "type": "histogram2dcontour"
           }
          ],
          "mesh3d": [
           {
            "colorbar": {
             "outlinewidth": 0,
             "ticks": ""
            },
            "type": "mesh3d"
           }
          ],
          "parcoords": [
           {
            "line": {
             "colorbar": {
              "outlinewidth": 0,
              "ticks": ""
             }
            },
            "type": "parcoords"
           }
          ],
          "pie": [
           {
            "automargin": true,
            "type": "pie"
           }
          ],
          "scatter": [
           {
            "marker": {
             "colorbar": {
              "outlinewidth": 0,
              "ticks": ""
             }
            },
            "type": "scatter"
           }
          ],
          "scatter3d": [
           {
            "line": {
             "colorbar": {
              "outlinewidth": 0,
              "ticks": ""
             }
            },
            "marker": {
             "colorbar": {
              "outlinewidth": 0,
              "ticks": ""
             }
            },
            "type": "scatter3d"
           }
          ],
          "scattercarpet": [
           {
            "marker": {
             "colorbar": {
              "outlinewidth": 0,
              "ticks": ""
             }
            },
            "type": "scattercarpet"
           }
          ],
          "scattergeo": [
           {
            "marker": {
             "colorbar": {
              "outlinewidth": 0,
              "ticks": ""
             }
            },
            "type": "scattergeo"
           }
          ],
          "scattergl": [
           {
            "marker": {
             "colorbar": {
              "outlinewidth": 0,
              "ticks": ""
             }
            },
            "type": "scattergl"
           }
          ],
          "scattermapbox": [
           {
            "marker": {
             "colorbar": {
              "outlinewidth": 0,
              "ticks": ""
             }
            },
            "type": "scattermapbox"
           }
          ],
          "scatterpolar": [
           {
            "marker": {
             "colorbar": {
              "outlinewidth": 0,
              "ticks": ""
             }
            },
            "type": "scatterpolar"
           }
          ],
          "scatterpolargl": [
           {
            "marker": {
             "colorbar": {
              "outlinewidth": 0,
              "ticks": ""
             }
            },
            "type": "scatterpolargl"
           }
          ],
          "scatterternary": [
           {
            "marker": {
             "colorbar": {
              "outlinewidth": 0,
              "ticks": ""
             }
            },
            "type": "scatterternary"
           }
          ],
          "surface": [
           {
            "colorbar": {
             "outlinewidth": 0,
             "ticks": ""
            },
            "colorscale": [
             [
              0,
              "#0d0887"
             ],
             [
              0.1111111111111111,
              "#46039f"
             ],
             [
              0.2222222222222222,
              "#7201a8"
             ],
             [
              0.3333333333333333,
              "#9c179e"
             ],
             [
              0.4444444444444444,
              "#bd3786"
             ],
             [
              0.5555555555555556,
              "#d8576b"
             ],
             [
              0.6666666666666666,
              "#ed7953"
             ],
             [
              0.7777777777777778,
              "#fb9f3a"
             ],
             [
              0.8888888888888888,
              "#fdca26"
             ],
             [
              1,
              "#f0f921"
             ]
            ],
            "type": "surface"
           }
          ],
          "table": [
           {
            "cells": {
             "fill": {
              "color": "#EBF0F8"
             },
             "line": {
              "color": "white"
             }
            },
            "header": {
             "fill": {
              "color": "#C8D4E3"
             },
             "line": {
              "color": "white"
             }
            },
            "type": "table"
           }
          ]
         },
         "layout": {
          "annotationdefaults": {
           "arrowcolor": "#2a3f5f",
           "arrowhead": 0,
           "arrowwidth": 1
          },
          "autotypenumbers": "strict",
          "coloraxis": {
           "colorbar": {
            "outlinewidth": 0,
            "ticks": ""
           }
          },
          "colorscale": {
           "diverging": [
            [
             0,
             "#8e0152"
            ],
            [
             0.1,
             "#c51b7d"
            ],
            [
             0.2,
             "#de77ae"
            ],
            [
             0.3,
             "#f1b6da"
            ],
            [
             0.4,
             "#fde0ef"
            ],
            [
             0.5,
             "#f7f7f7"
            ],
            [
             0.6,
             "#e6f5d0"
            ],
            [
             0.7,
             "#b8e186"
            ],
            [
             0.8,
             "#7fbc41"
            ],
            [
             0.9,
             "#4d9221"
            ],
            [
             1,
             "#276419"
            ]
           ],
           "sequential": [
            [
             0,
             "#0d0887"
            ],
            [
             0.1111111111111111,
             "#46039f"
            ],
            [
             0.2222222222222222,
             "#7201a8"
            ],
            [
             0.3333333333333333,
             "#9c179e"
            ],
            [
             0.4444444444444444,
             "#bd3786"
            ],
            [
             0.5555555555555556,
             "#d8576b"
            ],
            [
             0.6666666666666666,
             "#ed7953"
            ],
            [
             0.7777777777777778,
             "#fb9f3a"
            ],
            [
             0.8888888888888888,
             "#fdca26"
            ],
            [
             1,
             "#f0f921"
            ]
           ],
           "sequentialminus": [
            [
             0,
             "#0d0887"
            ],
            [
             0.1111111111111111,
             "#46039f"
            ],
            [
             0.2222222222222222,
             "#7201a8"
            ],
            [
             0.3333333333333333,
             "#9c179e"
            ],
            [
             0.4444444444444444,
             "#bd3786"
            ],
            [
             0.5555555555555556,
             "#d8576b"
            ],
            [
             0.6666666666666666,
             "#ed7953"
            ],
            [
             0.7777777777777778,
             "#fb9f3a"
            ],
            [
             0.8888888888888888,
             "#fdca26"
            ],
            [
             1,
             "#f0f921"
            ]
           ]
          },
          "colorway": [
           "#636efa",
           "#EF553B",
           "#00cc96",
           "#ab63fa",
           "#FFA15A",
           "#19d3f3",
           "#FF6692",
           "#B6E880",
           "#FF97FF",
           "#FECB52"
          ],
          "font": {
           "color": "#2a3f5f"
          },
          "geo": {
           "bgcolor": "white",
           "lakecolor": "white",
           "landcolor": "#E5ECF6",
           "showlakes": true,
           "showland": true,
           "subunitcolor": "white"
          },
          "hoverlabel": {
           "align": "left"
          },
          "hovermode": "closest",
          "mapbox": {
           "style": "light"
          },
          "paper_bgcolor": "white",
          "plot_bgcolor": "#E5ECF6",
          "polar": {
           "angularaxis": {
            "gridcolor": "white",
            "linecolor": "white",
            "ticks": ""
           },
           "bgcolor": "#E5ECF6",
           "radialaxis": {
            "gridcolor": "white",
            "linecolor": "white",
            "ticks": ""
           }
          },
          "scene": {
           "xaxis": {
            "backgroundcolor": "#E5ECF6",
            "gridcolor": "white",
            "gridwidth": 2,
            "linecolor": "white",
            "showbackground": true,
            "ticks": "",
            "zerolinecolor": "white"
           },
           "yaxis": {
            "backgroundcolor": "#E5ECF6",
            "gridcolor": "white",
            "gridwidth": 2,
            "linecolor": "white",
            "showbackground": true,
            "ticks": "",
            "zerolinecolor": "white"
           },
           "zaxis": {
            "backgroundcolor": "#E5ECF6",
            "gridcolor": "white",
            "gridwidth": 2,
            "linecolor": "white",
            "showbackground": true,
            "ticks": "",
            "zerolinecolor": "white"
           }
          },
          "shapedefaults": {
           "line": {
            "color": "#2a3f5f"
           }
          },
          "ternary": {
           "aaxis": {
            "gridcolor": "white",
            "linecolor": "white",
            "ticks": ""
           },
           "baxis": {
            "gridcolor": "white",
            "linecolor": "white",
            "ticks": ""
           },
           "bgcolor": "#E5ECF6",
           "caxis": {
            "gridcolor": "white",
            "linecolor": "white",
            "ticks": ""
           }
          },
          "title": {
           "x": 0.05
          },
          "xaxis": {
           "automargin": true,
           "gridcolor": "white",
           "linecolor": "white",
           "ticks": "",
           "title": {
            "standoff": 15
           },
           "zerolinecolor": "white",
           "zerolinewidth": 2
          },
          "yaxis": {
           "automargin": true,
           "gridcolor": "white",
           "linecolor": "white",
           "ticks": "",
           "title": {
            "standoff": 15
           },
           "zerolinecolor": "white",
           "zerolinewidth": 2
          }
         }
        },
        "title": {
         "text": "parties with winnings in 2019 loksabha elections"
        }
       }
      },
      "text/html": [
       "<div>                            <div id=\"eb58e2e7-881d-4138-b93c-15d27868c3f2\" class=\"plotly-graph-div\" style=\"height:525px; width:100%;\"></div>            <script type=\"text/javascript\">                require([\"plotly\"], function(Plotly) {                    window.PLOTLYENV=window.PLOTLYENV || {};                                    if (document.getElementById(\"eb58e2e7-881d-4138-b93c-15d27868c3f2\")) {                    Plotly.newPlot(                        \"eb58e2e7-881d-4138-b93c-15d27868c3f2\",                        [{\"domain\": {\"x\": [0.0, 1.0], \"y\": [0.0, 1.0]}, \"hovertemplate\": \"label=%{label}<br>value=%{value}<extra></extra>\", \"labels\": [\"BJP\", \"TRS\", \"INC\", \"NOTA\", \"BSP\", \"NCP\", \"VBA\", \"APoI\", \"CPI(M)\", \"BDJS\", \"AITC\", \"RSP\", \"SP\", \"YSRCP\", \"TDP\", \"JnP\", \"INLD\", \"SBSP\", \"IND\", \"SHS\", \"AAP\", \"SAD\", \"JKN\", \"JKPDP\", \"JPC\", \"DMK\", \"PMK\", \"NTK\", \"MNM\", \"AIADMK\", \"RJD\", \"CPI(ML)(L)\", \"SSD\", \"PPA\", \"JD(S)\", \"NPEP\", \"BMUP\", \"BJD\", \"AIMIM\", \"HAMS\", \"AHFBK\", \"PPID\", \"SPL\", \"ASDC\", \"RLD\", \"PSPL\", \"JD(U)\", \"BTP\", \"AIFB\", \"AGP\", \"AIUDF\", \"ABSKP\", \"PUNEKP\", \"RTORP\", \"JNJP\", \"LTSP\", \"RVNP\", \"JANADIP\", \"SDPI\", \"DMDK\", \"ABGP\", \"VCK\", \"JMM\", \"LIP\", \"JDR\", \"MOSP\", \"MADP\", \"AJPR\", \"PMP\", \"BBMP\", \"AJSUP\", \"JVM\", \"RMPOI\", \"LJP\", \"BJKVP\", \"SWP\", \"NEINDP\", \"RSPSR\", \"ravp\", \"RSOSP\", \"BLSP\", \"WPOI\", \"SUCI(C)\", \"SJDD\", \"ANC\", \"JDL\", \"VSIP\", \"AAM\", \"JKP\", \"BOPF\", \"UPPL\", \"CPIM\", \"GGP\", \"KEC(M)\", \"KEC\", \"JAPL\", \"AKBMP\", \"TJS\", \"IUML\", \"BSCP\", \"ADAL\", \"BRPI\", \"MNF\", \"PRISMP\", \"VPI\", \"YKP\", \"NDPP\", \"RLTP\", \"RAHIS\", \"NPF\", \"BLSD\", \"BVA\", \"NAWPP\", \"AINRC\", \"BNDl\", \"MSHP\", \"BARESP\", \"BLRP\", \"AIPF\", \"WAP\", \"VCSMP\", \"SAD(M)\", \"UDP\", \"SKM\", \"SDF\", \"PDP\", \"JHP\", \"TMC(M)\", \"IPFT\", \"JKNPP\", \"DSSP\", \"AHNP\", \"PHJSP\"], \"legendgroup\": \"\", \"name\": \"\", \"showlegend\": true, \"type\": \"pie\", \"values\": [300, 9, 52, 0, 11, 5, 0, 0, 5, 0, 22, 1, 5, 22, 3, 0, 0, 0, 4, 18, 1, 2, 3, 0, 0, 23, 0, 0, 0, 1, 0, 0, 0, 0, 1, 1, 0, 11, 2, 0, 0, 0, 0, 0, 0, 0, 16, 0, 0, 0, 1, 0, 0, 0, 0, 0, 0, 0, 0, 0, 0, 1, 1, 0, 0, 0, 0, 0, 0, 0, 1, 0, 0, 6, 0, 0, 0, 0, 0, 0, 0, 0, 0, 0, 0, 0, 0, 0, 0, 0, 0, 0, 0, 1, 0, 0, 0, 0, 3, 0, 2, 0, 1, 0, 0, 0, 1, 1, 0, 1, 0, 0, 0, 0, 0, 0, 0, 0, 0, 0, 0, 0, 0, 1, 0, 0, 0, 0, 0, 0, 0, 0, 0]}],                        {\"legend\": {\"tracegroupgap\": 0}, \"template\": {\"data\": {\"bar\": [{\"error_x\": {\"color\": \"#2a3f5f\"}, \"error_y\": {\"color\": \"#2a3f5f\"}, \"marker\": {\"line\": {\"color\": \"#E5ECF6\", \"width\": 0.5}}, \"type\": \"bar\"}], \"barpolar\": [{\"marker\": {\"line\": {\"color\": \"#E5ECF6\", \"width\": 0.5}}, \"type\": \"barpolar\"}], \"carpet\": [{\"aaxis\": {\"endlinecolor\": \"#2a3f5f\", \"gridcolor\": \"white\", \"linecolor\": \"white\", \"minorgridcolor\": \"white\", \"startlinecolor\": \"#2a3f5f\"}, \"baxis\": {\"endlinecolor\": \"#2a3f5f\", \"gridcolor\": \"white\", \"linecolor\": \"white\", \"minorgridcolor\": \"white\", \"startlinecolor\": \"#2a3f5f\"}, \"type\": \"carpet\"}], \"choropleth\": [{\"colorbar\": {\"outlinewidth\": 0, \"ticks\": \"\"}, \"type\": \"choropleth\"}], \"contour\": [{\"colorbar\": {\"outlinewidth\": 0, \"ticks\": \"\"}, \"colorscale\": [[0.0, \"#0d0887\"], [0.1111111111111111, \"#46039f\"], [0.2222222222222222, \"#7201a8\"], [0.3333333333333333, \"#9c179e\"], [0.4444444444444444, \"#bd3786\"], [0.5555555555555556, \"#d8576b\"], [0.6666666666666666, \"#ed7953\"], [0.7777777777777778, \"#fb9f3a\"], [0.8888888888888888, \"#fdca26\"], [1.0, \"#f0f921\"]], \"type\": \"contour\"}], \"contourcarpet\": [{\"colorbar\": {\"outlinewidth\": 0, \"ticks\": \"\"}, \"type\": \"contourcarpet\"}], \"heatmap\": [{\"colorbar\": {\"outlinewidth\": 0, \"ticks\": \"\"}, \"colorscale\": [[0.0, \"#0d0887\"], [0.1111111111111111, \"#46039f\"], [0.2222222222222222, \"#7201a8\"], [0.3333333333333333, \"#9c179e\"], [0.4444444444444444, \"#bd3786\"], [0.5555555555555556, \"#d8576b\"], [0.6666666666666666, \"#ed7953\"], [0.7777777777777778, \"#fb9f3a\"], [0.8888888888888888, \"#fdca26\"], [1.0, \"#f0f921\"]], \"type\": \"heatmap\"}], \"heatmapgl\": [{\"colorbar\": {\"outlinewidth\": 0, \"ticks\": \"\"}, \"colorscale\": [[0.0, \"#0d0887\"], [0.1111111111111111, \"#46039f\"], [0.2222222222222222, \"#7201a8\"], [0.3333333333333333, \"#9c179e\"], [0.4444444444444444, \"#bd3786\"], [0.5555555555555556, \"#d8576b\"], [0.6666666666666666, \"#ed7953\"], [0.7777777777777778, \"#fb9f3a\"], [0.8888888888888888, \"#fdca26\"], [1.0, \"#f0f921\"]], \"type\": \"heatmapgl\"}], \"histogram\": [{\"marker\": {\"colorbar\": {\"outlinewidth\": 0, \"ticks\": \"\"}}, \"type\": \"histogram\"}], \"histogram2d\": [{\"colorbar\": {\"outlinewidth\": 0, \"ticks\": \"\"}, \"colorscale\": [[0.0, \"#0d0887\"], [0.1111111111111111, \"#46039f\"], [0.2222222222222222, \"#7201a8\"], [0.3333333333333333, \"#9c179e\"], [0.4444444444444444, \"#bd3786\"], [0.5555555555555556, \"#d8576b\"], [0.6666666666666666, \"#ed7953\"], [0.7777777777777778, \"#fb9f3a\"], [0.8888888888888888, \"#fdca26\"], [1.0, \"#f0f921\"]], \"type\": \"histogram2d\"}], \"histogram2dcontour\": [{\"colorbar\": {\"outlinewidth\": 0, \"ticks\": \"\"}, \"colorscale\": [[0.0, \"#0d0887\"], [0.1111111111111111, \"#46039f\"], [0.2222222222222222, \"#7201a8\"], [0.3333333333333333, \"#9c179e\"], [0.4444444444444444, \"#bd3786\"], [0.5555555555555556, \"#d8576b\"], [0.6666666666666666, \"#ed7953\"], [0.7777777777777778, \"#fb9f3a\"], [0.8888888888888888, \"#fdca26\"], [1.0, \"#f0f921\"]], \"type\": \"histogram2dcontour\"}], \"mesh3d\": [{\"colorbar\": {\"outlinewidth\": 0, \"ticks\": \"\"}, \"type\": \"mesh3d\"}], \"parcoords\": [{\"line\": {\"colorbar\": {\"outlinewidth\": 0, \"ticks\": \"\"}}, \"type\": \"parcoords\"}], \"pie\": [{\"automargin\": true, \"type\": \"pie\"}], \"scatter\": [{\"marker\": {\"colorbar\": {\"outlinewidth\": 0, \"ticks\": \"\"}}, \"type\": \"scatter\"}], \"scatter3d\": [{\"line\": {\"colorbar\": {\"outlinewidth\": 0, \"ticks\": \"\"}}, \"marker\": {\"colorbar\": {\"outlinewidth\": 0, \"ticks\": \"\"}}, \"type\": \"scatter3d\"}], \"scattercarpet\": [{\"marker\": {\"colorbar\": {\"outlinewidth\": 0, \"ticks\": \"\"}}, \"type\": \"scattercarpet\"}], \"scattergeo\": [{\"marker\": {\"colorbar\": {\"outlinewidth\": 0, \"ticks\": \"\"}}, \"type\": \"scattergeo\"}], \"scattergl\": [{\"marker\": {\"colorbar\": {\"outlinewidth\": 0, \"ticks\": \"\"}}, \"type\": \"scattergl\"}], \"scattermapbox\": [{\"marker\": {\"colorbar\": {\"outlinewidth\": 0, \"ticks\": \"\"}}, \"type\": \"scattermapbox\"}], \"scatterpolar\": [{\"marker\": {\"colorbar\": {\"outlinewidth\": 0, \"ticks\": \"\"}}, \"type\": \"scatterpolar\"}], \"scatterpolargl\": [{\"marker\": {\"colorbar\": {\"outlinewidth\": 0, \"ticks\": \"\"}}, \"type\": \"scatterpolargl\"}], \"scatterternary\": [{\"marker\": {\"colorbar\": {\"outlinewidth\": 0, \"ticks\": \"\"}}, \"type\": \"scatterternary\"}], \"surface\": [{\"colorbar\": {\"outlinewidth\": 0, \"ticks\": \"\"}, \"colorscale\": [[0.0, \"#0d0887\"], [0.1111111111111111, \"#46039f\"], [0.2222222222222222, \"#7201a8\"], [0.3333333333333333, \"#9c179e\"], [0.4444444444444444, \"#bd3786\"], [0.5555555555555556, \"#d8576b\"], [0.6666666666666666, \"#ed7953\"], [0.7777777777777778, \"#fb9f3a\"], [0.8888888888888888, \"#fdca26\"], [1.0, \"#f0f921\"]], \"type\": \"surface\"}], \"table\": [{\"cells\": {\"fill\": {\"color\": \"#EBF0F8\"}, \"line\": {\"color\": \"white\"}}, \"header\": {\"fill\": {\"color\": \"#C8D4E3\"}, \"line\": {\"color\": \"white\"}}, \"type\": \"table\"}]}, \"layout\": {\"annotationdefaults\": {\"arrowcolor\": \"#2a3f5f\", \"arrowhead\": 0, \"arrowwidth\": 1}, \"autotypenumbers\": \"strict\", \"coloraxis\": {\"colorbar\": {\"outlinewidth\": 0, \"ticks\": \"\"}}, \"colorscale\": {\"diverging\": [[0, \"#8e0152\"], [0.1, \"#c51b7d\"], [0.2, \"#de77ae\"], [0.3, \"#f1b6da\"], [0.4, \"#fde0ef\"], [0.5, \"#f7f7f7\"], [0.6, \"#e6f5d0\"], [0.7, \"#b8e186\"], [0.8, \"#7fbc41\"], [0.9, \"#4d9221\"], [1, \"#276419\"]], \"sequential\": [[0.0, \"#0d0887\"], [0.1111111111111111, \"#46039f\"], [0.2222222222222222, \"#7201a8\"], [0.3333333333333333, \"#9c179e\"], [0.4444444444444444, \"#bd3786\"], [0.5555555555555556, \"#d8576b\"], [0.6666666666666666, \"#ed7953\"], [0.7777777777777778, \"#fb9f3a\"], [0.8888888888888888, \"#fdca26\"], [1.0, \"#f0f921\"]], \"sequentialminus\": [[0.0, \"#0d0887\"], [0.1111111111111111, \"#46039f\"], [0.2222222222222222, \"#7201a8\"], [0.3333333333333333, \"#9c179e\"], [0.4444444444444444, \"#bd3786\"], [0.5555555555555556, \"#d8576b\"], [0.6666666666666666, \"#ed7953\"], [0.7777777777777778, \"#fb9f3a\"], [0.8888888888888888, \"#fdca26\"], [1.0, \"#f0f921\"]]}, \"colorway\": [\"#636efa\", \"#EF553B\", \"#00cc96\", \"#ab63fa\", \"#FFA15A\", \"#19d3f3\", \"#FF6692\", \"#B6E880\", \"#FF97FF\", \"#FECB52\"], \"font\": {\"color\": \"#2a3f5f\"}, \"geo\": {\"bgcolor\": \"white\", \"lakecolor\": \"white\", \"landcolor\": \"#E5ECF6\", \"showlakes\": true, \"showland\": true, \"subunitcolor\": \"white\"}, \"hoverlabel\": {\"align\": \"left\"}, \"hovermode\": \"closest\", \"mapbox\": {\"style\": \"light\"}, \"paper_bgcolor\": \"white\", \"plot_bgcolor\": \"#E5ECF6\", \"polar\": {\"angularaxis\": {\"gridcolor\": \"white\", \"linecolor\": \"white\", \"ticks\": \"\"}, \"bgcolor\": \"#E5ECF6\", \"radialaxis\": {\"gridcolor\": \"white\", \"linecolor\": \"white\", \"ticks\": \"\"}}, \"scene\": {\"xaxis\": {\"backgroundcolor\": \"#E5ECF6\", \"gridcolor\": \"white\", \"gridwidth\": 2, \"linecolor\": \"white\", \"showbackground\": true, \"ticks\": \"\", \"zerolinecolor\": \"white\"}, \"yaxis\": {\"backgroundcolor\": \"#E5ECF6\", \"gridcolor\": \"white\", \"gridwidth\": 2, \"linecolor\": \"white\", \"showbackground\": true, \"ticks\": \"\", \"zerolinecolor\": \"white\"}, \"zaxis\": {\"backgroundcolor\": \"#E5ECF6\", \"gridcolor\": \"white\", \"gridwidth\": 2, \"linecolor\": \"white\", \"showbackground\": true, \"ticks\": \"\", \"zerolinecolor\": \"white\"}}, \"shapedefaults\": {\"line\": {\"color\": \"#2a3f5f\"}}, \"ternary\": {\"aaxis\": {\"gridcolor\": \"white\", \"linecolor\": \"white\", \"ticks\": \"\"}, \"baxis\": {\"gridcolor\": \"white\", \"linecolor\": \"white\", \"ticks\": \"\"}, \"bgcolor\": \"#E5ECF6\", \"caxis\": {\"gridcolor\": \"white\", \"linecolor\": \"white\", \"ticks\": \"\"}}, \"title\": {\"x\": 0.05}, \"xaxis\": {\"automargin\": true, \"gridcolor\": \"white\", \"linecolor\": \"white\", \"ticks\": \"\", \"title\": {\"standoff\": 15}, \"zerolinecolor\": \"white\", \"zerolinewidth\": 2}, \"yaxis\": {\"automargin\": true, \"gridcolor\": \"white\", \"linecolor\": \"white\", \"ticks\": \"\", \"title\": {\"standoff\": 15}, \"zerolinecolor\": \"white\", \"zerolinewidth\": 2}}}, \"title\": {\"text\": \"parties with winnings in 2019 loksabha elections\"}},                        {\"responsive\": true}                    ).then(function(){\n",
       "                            \n",
       "var gd = document.getElementById('eb58e2e7-881d-4138-b93c-15d27868c3f2');\n",
       "var x = new MutationObserver(function (mutations, observer) {{\n",
       "        var display = window.getComputedStyle(gd).display;\n",
       "        if (!display || display === 'none') {{\n",
       "            console.log([gd, 'removed!']);\n",
       "            Plotly.purge(gd);\n",
       "            observer.disconnect();\n",
       "        }}\n",
       "}});\n",
       "\n",
       "// Listen for the removal of the full notebook cells\n",
       "var notebookContainer = gd.closest('#notebook-container');\n",
       "if (notebookContainer) {{\n",
       "    x.observe(notebookContainer, {childList: true});\n",
       "}}\n",
       "\n",
       "// Listen for the clearing of the current output cell\n",
       "var outputEl = gd.closest('.output');\n",
       "if (outputEl) {{\n",
       "    x.observe(outputEl, {childList: true});\n",
       "}}\n",
       "\n",
       "                        })                };                });            </script>        </div>"
      ]
     },
     "metadata": {},
     "output_type": "display_data"
    }
   ],
   "source": [
    "a=LS_candidates['PARTY'].unique()\n",
    "winners=[]\n",
    "for i in a:\n",
    "    winners.append(LS_candidates[LS_candidates['PARTY']==i]['WINNER'].sum())\n",
    "figure1=go.Figure()\n",
    "import plotly.express as px\n",
    "fig = px.pie(values=winners, names=a, title='parties with winnings in 2019 loksabha elections')\n",
    "fig.show()"
   ]
  },
  {
   "cell_type": "code",
   "execution_count": 461,
   "metadata": {},
   "outputs": [
    {
     "data": {
      "image/png": "[encoded data removed]",
      "text/plain": [
       "<Figure size 432x288 with 1 Axes>"
      ]
     },
     "metadata": {},
     "output_type": "display_data"
    },
    {
     "name": "stdout",
     "output_type": "stream",
     "text": [
      "1760\n",
      "258\n"
     ]
    }
   ],
   "source": [
    "male=LS_candidates[LS_candidates['GENDER']=='MALE']['GENDER'].count()\n",
    "female=LS_candidates[LS_candidates['GENDER']=='FEMALE']['GENDER'].count()\n",
    "plt.subplot(1,1,1)\n",
    "plt.title(\"Percentage of males and females participating in Loksabha Elections\")\n",
    "plt.pie([male,female],labels=['MALE','FEMALE'],autopct='%1.2f%%',shadow=True, startangle=90)\n",
    "plt.show()\n",
    "print(male)\n",
    "print(female)"
   ]
  },
  {
   "cell_type": "code",
   "execution_count": 463,
   "metadata": {},
   "outputs": [
    {
     "data": {
      "image/png": "[encoded data removed]",
      "text/plain": [
       "<Figure size 432x288 with 1 Axes>"
      ]
     },
     "metadata": {
      "needs_background": "light"
     },
     "output_type": "display_data"
    },
    {
     "data": {
      "text/plain": [
       "Candidate           1136\n",
       "Party               1136\n",
       "Criminal Cases      1136\n",
       "Education           1136\n",
       "Age                 1136\n",
       "Total Assets        1136\n",
       "Constituency        1136\n",
       "Liabilities         1136\n",
       "Winner              1136\n",
       "Gender              1136\n",
       "Total Assets_log    1136\n",
       "Liabilities_log     1136\n",
       "dtype: int64"
      ]
     },
     "execution_count": 463,
     "metadata": {},
     "output_type": "execute_result"
    }
   ],
   "source": [
    "a=LS_1['Party'].unique()\n",
    "temp={}\n",
    "for i in a:\n",
    "    temp[i]=LS_1[(LS_1['Criminal Cases']>0) & (LS_1['Party']==i)]['Criminal Cases'].count()\n",
    "figure=go.Figure()\n",
    "temp=sorted(temp.items(), key=lambda x: x[1], reverse=True)\n",
    "temp = {k: v for k, v in temp}\n",
    "top10 = {k: temp[k] for k in list(temp)[:10]}\n",
    "plt.title(\"Party with most candidates with criminal cases since 2004\")\n",
    "plt.bar(top10.keys(),top10.values())\n",
    "plt.show()"
   ]
  },
  {
   "cell_type": "code",
   "execution_count": 326,
   "metadata": {},
   "outputs": [
    {
     "data": {
      "image/png": "[encoded data removed]",
      "text/plain": [
       "<Figure size 432x288 with 1 Axes>"
      ]
     },
     "metadata": {
      "needs_background": "light"
     },
     "output_type": "display_data"
    }
   ],
   "source": [
    "a=LS_candidates[LS_candidates['WINNER']==1]['NAME']\n",
    "temp={}\n",
    "for i in a:\n",
    "    temp[i]=LS_candidates[(LS_candidates['WINNER']==1) & (LS_candidates['NAME']==i)]['OVER TOTAL VOTES POLLED \\nIN CONSTITUENCY'].values[0]\n",
    "figure=go.Figure()\n",
    "temp=sorted(temp.items(), key=lambda x: x[1], reverse=True)\n",
    "temp = {k: v for k, v in temp}\n",
    "top15 = {k: temp[k] for k in list(temp)[:15]}\n",
    "plt.title(\"Candidates who got highest share of votes in their constituency\")\n",
    "plt.bar(top15.keys(),top15.values())\n",
    "plt.xticks(list(top15.keys()), rotation='vertical')\n",
    "plt.show()"
   ]
  },
  {
   "cell_type": "code",
   "execution_count": 465,
   "metadata": {},
   "outputs": [
    {
     "data": {
      "image/png": "[encoded data removed]",
      "text/plain": [
       "<Figure size 432x288 with 1 Axes>"
      ]
     },
     "metadata": {
      "needs_background": "light"
     },
     "output_type": "display_data"
    }
   ],
   "source": [
    "a=list(LS_candidates['SYMBOL'].unique())\n",
    "a.remove('NO SYMBOL')\n",
    "\n",
    "temp={}\n",
    "for i in a:\n",
    "    temp[i]=LS_candidates[LS_candidates['SYMBOL']==i]['SYMBOL'].count()\n",
    "figure=go.Figure()\n",
    "temp=sorted(temp.items(), key=lambda x: x[1], reverse=True)\n",
    "temp = {k: v for k, v in temp}\n",
    "top15 = {k: temp[k] for k in list(temp)[:15]}\n",
    "plt.title(\"Most number of candidates participated from a party\")\n",
    "plt.bar(top15.keys(),top15.values())\n",
    "plt.xticks(list(top15.keys()), rotation='vertical')\n",
    "plt.show()"
   ]
  },
  {
   "cell_type": "code",
   "execution_count": 466,
   "metadata": {},
   "outputs": [
    {
     "data": {
      "image/png": "[encoded data removed]",
      "text/plain": [
       "<Figure size 432x288 with 1 Axes>"
      ]
     },
     "metadata": {},
     "output_type": "display_data"
    }
   ],
   "source": [
    "a=list(LS_candidates['CATEGORY'].unique())\n",
    "a.remove('NO CATEGORY')\n",
    "temp={}\n",
    "for i in a:\n",
    "    temp[i]=LS_candidates[LS_candidates['CATEGORY']==i]['SYMBOL'].count()\n",
    "figure=go.Figure()\n",
    "temp=sorted(temp.items(), key=lambda x: x[1], reverse=True)\n",
    "temp = {k: v for k, v in temp}\n",
    "plt.title(\"graph for percentage of candidates in a category\")\n",
    "plt.pie(temp.values(),labels=temp.keys(),autopct='%1.2f%%')\n",
    "plt.show()"
   ]
  },
  {
   "cell_type": "code",
   "execution_count": 341,
   "metadata": {},
   "outputs": [
    {
     "data": {
      "image/png": "[encoded data removed]",
      "text/plain": [
       "<Figure size 432x288 with 1 Axes>"
      ]
     },
     "metadata": {
      "needs_background": "light"
     },
     "output_type": "display_data"
    }
   ],
   "source": [
    "a=list(LS_candidates['EDUCATION'].unique())\n",
    "a.remove('NO EDUCATION')\n",
    "temp={}\n",
    "for i in a:\n",
    "    temp[i]=LS_candidates[LS_candidates['EDUCATION']==i]['SYMBOL'].count()\n",
    "figure=go.Figure()\n",
    "temp=sorted(temp.items(), key=lambda x: x[1], reverse=True)\n",
    "temp = {k: v for k, v in temp}\n",
    "top15 = {k: temp[k] for k in list(temp)[:15]}\n",
    "plt.title(\"candidates based on their education\")\n",
    "plt.bar(top15.keys(),top15.values())\n",
    "plt.xticks(list(top15.keys()), rotation='vertical')\n",
    "plt.show()"
   ]
  },
  {
   "cell_type": "code",
   "execution_count": 377,
   "metadata": {},
   "outputs": [
    {
     "name": "stdout",
     "output_type": "stream",
     "text": [
      "124.0\n"
     ]
    },
    {
     "data": {
      "image/png": "[encoded data removed]",
      "text/plain": [
       "<Figure size 432x288 with 1 Axes>"
      ]
     },
     "metadata": {
      "needs_background": "light"
     },
     "output_type": "display_data"
    }
   ],
   "source": [
    "a=LS_1[LS_1['Liabilities']>0]['Candidate']\n",
    "temp={}\n",
    "for i in a:\n",
    "    temp[i]=LS_1[(LS_1['Liabilities']>0) & (LS_1['Candidate']==i)]['Liabilities'].values[0]\n",
    "figure=go.Figure()\n",
    "temp=sorted(temp.items(), key=lambda x: x[1], reverse=True)\n",
    "temp = {k: v for k, v in temp}\n",
    "top15 = {k: temp[k] for k in list(temp)[:15]}\n",
    "print(LS_1[(LS_1['Liabilities']>0) & (LS_1['Candidate']==i)]['Liabilities'].mean())\n",
    "plt.bar(top15.keys(),top15.values())\n",
    "plt.xticks(list(top15.keys()), rotation='vertical')\n",
    "plt.title(\"Candidates who have highest liabilities\",pad=20)\n",
    "plt.show()"
   ]
  },
  {
   "cell_type": "code",
   "execution_count": 375,
   "metadata": {},
   "outputs": [
    {
     "data": {
      "image/png": "[encoded data removed]",
      "text/plain": [
       "<Figure size 432x288 with 1 Axes>"
      ]
     },
     "metadata": {
      "needs_background": "light"
     },
     "output_type": "display_data"
    },
    {
     "data": {
      "application/vnd.plotly.v1+json": {
       "config": {
        "plotlyServerURL": "https://plot.ly"
       },
       "data": [
        {
         "type": "bar",
         "x": [
          "Uttar Pradesh",
          "Maharashtra",
          "West Bengal",
          "Bihar",
          "Tamil Nadu",
          "Madhya Pradesh",
          "Karnataka",
          "Gujarat",
          "Rajasthan",
          "Andhra Pradesh",
          "Kerala",
          "Odisha",
          "Telangana",
          "Assam",
          "Jharkhand",
          "Punjab",
          "Chhattisgarh",
          "Haryana",
          "NCT OF Delhi",
          "Jammu & Kashmir",
          "Uttarakhand",
          "Himachal Pradesh",
          "Arunachal Pradesh",
          "Manipur",
          "Goa",
          "Meghalaya",
          "Tripura",
          "Andaman & Nicobar Islands",
          "Chandigarh",
          "Dadra & Nagar Haveli",
          "Daman & Diu",
          "Lakshadweep",
          "Mizoram",
          "Nagaland",
          "Puducherry",
          "Sikkim"
         ],
         "y": [
          78,
          47,
          42,
          41,
          38,
          29,
          28,
          26,
          25,
          25,
          20,
          20,
          17,
          14,
          14,
          13,
          11,
          10,
          7,
          6,
          5,
          4,
          2,
          2,
          2,
          2,
          2,
          1,
          1,
          1,
          1,
          1,
          1,
          1,
          1,
          1
         ]
        }
       ],
       "layout": {
        "template": {
         "data": {
          "bar": [
           {
            "error_x": {
             "color": "#2a3f5f"
            },
            "error_y": {
             "color": "#2a3f5f"
            },
            "marker": {
             "line": {
              "color": "#E5ECF6",
              "width": 0.5
             }
            },
            "type": "bar"
           }
          ],
          "barpolar": [
           {
            "marker": {
             "line": {
              "color": "#E5ECF6",
              "width": 0.5
             }
            },
            "type": "barpolar"
           }
          ],
          "carpet": [
           {
            "aaxis": {
             "endlinecolor": "#2a3f5f",
             "gridcolor": "white",
             "linecolor": "white",
             "minorgridcolor": "white",
             "startlinecolor": "#2a3f5f"
            },
            "baxis": {
             "endlinecolor": "#2a3f5f",
             "gridcolor": "white",
             "linecolor": "white",
             "minorgridcolor": "white",
             "startlinecolor": "#2a3f5f"
            },
            "type": "carpet"
           }
          ],
          "choropleth": [
           {
            "colorbar": {
             "outlinewidth": 0,
             "ticks": ""
            },
            "type": "choropleth"
           }
          ],
          "contour": [
           {
            "colorbar": {
             "outlinewidth": 0,
             "ticks": ""
            },
            "colorscale": [
             [
              0,
              "#0d0887"
             ],
             [
              0.1111111111111111,
              "#46039f"
             ],
             [
              0.2222222222222222,
              "#7201a8"
             ],
             [
              0.3333333333333333,
              "#9c179e"
             ],
             [
              0.4444444444444444,
              "#bd3786"
             ],
             [
              0.5555555555555556,
              "#d8576b"
             ],
             [
              0.6666666666666666,
              "#ed7953"
             ],
             [
              0.7777777777777778,
              "#fb9f3a"
             ],
             [
              0.8888888888888888,
              "#fdca26"
             ],
             [
              1,
              "#f0f921"
             ]
            ],
            "type": "contour"
           }
          ],
          "contourcarpet": [
           {
            "colorbar": {
             "outlinewidth": 0,
             "ticks": ""
            },
            "type": "contourcarpet"
           }
          ],
          "heatmap": [
           {
            "colorbar": {
             "outlinewidth": 0,
             "ticks": ""
            },
            "colorscale": [
             [
              0,
              "#0d0887"
             ],
             [
              0.1111111111111111,
              "#46039f"
             ],
             [
              0.2222222222222222,
              "#7201a8"
             ],
             [
              0.3333333333333333,
              "#9c179e"
             ],
             [
              0.4444444444444444,
              "#bd3786"
             ],
             [
              0.5555555555555556,
              "#d8576b"
             ],
             [
              0.6666666666666666,
              "#ed7953"
             ],
             [
              0.7777777777777778,
              "#fb9f3a"
             ],
             [
              0.8888888888888888,
              "#fdca26"
             ],
             [
              1,
              "#f0f921"
             ]
            ],
            "type": "heatmap"
           }
          ],
          "heatmapgl": [
           {
            "colorbar": {
             "outlinewidth": 0,
             "ticks": ""
            },
            "colorscale": [
             [
              0,
              "#0d0887"
             ],
             [
              0.1111111111111111,
              "#46039f"
             ],
             [
              0.2222222222222222,
              "#7201a8"
             ],
             [
              0.3333333333333333,
              "#9c179e"
             ],
             [
              0.4444444444444444,
              "#bd3786"
             ],
             [
              0.5555555555555556,
              "#d8576b"
             ],
             [
              0.6666666666666666,
              "#ed7953"
             ],
             [
              0.7777777777777778,
              "#fb9f3a"
             ],
             [
              0.8888888888888888,
              "#fdca26"
             ],
             [
              1,
              "#f0f921"
             ]
            ],
            "type": "heatmapgl"
           }
          ],
          "histogram": [
           {
            "marker": {
             "colorbar": {
              "outlinewidth": 0,
              "ticks": ""
             }
            },
            "type": "histogram"
           }
          ],
          "histogram2d": [
           {
            "colorbar": {
             "outlinewidth": 0,
             "ticks": ""
            },
            "colorscale": [
             [
              0,
              "#0d0887"
             ],
             [
              0.1111111111111111,
              "#46039f"
             ],
             [
              0.2222222222222222,
              "#7201a8"
             ],
             [
              0.3333333333333333,
              "#9c179e"
             ],
             [
              0.4444444444444444,
              "#bd3786"
             ],
             [
              0.5555555555555556,
              "#d8576b"
             ],
             [
              0.6666666666666666,
              "#ed7953"
             ],
             [
              0.7777777777777778,
              "#fb9f3a"
             ],
             [
              0.8888888888888888,
              "#fdca26"
             ],
             [
              1,
              "#f0f921"
             ]
            ],
            "type": "histogram2d"
           }
          ],
          "histogram2dcontour": [
           {
            "colorbar": {
             "outlinewidth": 0,
             "ticks": ""
            },
            "colorscale": [
             [
              0,
              "#0d0887"
             ],
             [
              0.1111111111111111,
              "#46039f"
             ],
             [
              0.2222222222222222,
              "#7201a8"
             ],
             [
              0.3333333333333333,
              "#9c179e"
             ],
             [
              0.4444444444444444,
              "#bd3786"
             ],
             [
              0.5555555555555556,
              "#d8576b"
             ],
             [
              0.6666666666666666,
              "#ed7953"
             ],
             [
              0.7777777777777778,
              "#fb9f3a"
             ],
             [
              0.8888888888888888,
              "#fdca26"
             ],
             [
              1,
              "#f0f921"
             ]
            ],
            "type": "histogram2dcontour"
           }
          ],
          "mesh3d": [
           {
            "colorbar": {
             "outlinewidth": 0,
             "ticks": ""
            },
            "type": "mesh3d"
           }
          ],
          "parcoords": [
           {
            "line": {
             "colorbar": {
              "outlinewidth": 0,
              "ticks": ""
             }
            },
            "type": "parcoords"
           }
          ],
          "pie": [
           {
            "automargin": true,
            "type": "pie"
           }
          ],
          "scatter": [
           {
            "marker": {
             "colorbar": {
              "outlinewidth": 0,
              "ticks": ""
             }
            },
            "type": "scatter"
           }
          ],
          "scatter3d": [
           {
            "line": {
             "colorbar": {
              "outlinewidth": 0,
              "ticks": ""
             }
            },
            "marker": {
             "colorbar": {
              "outlinewidth": 0,
              "ticks": ""
             }
            },
            "type": "scatter3d"
           }
          ],
          "scattercarpet": [
           {
            "marker": {
             "colorbar": {
              "outlinewidth": 0,
              "ticks": ""
             }
            },
            "type": "scattercarpet"
           }
          ],
          "scattergeo": [
           {
            "marker": {
             "colorbar": {
              "outlinewidth": 0,
              "ticks": ""
             }
            },
            "type": "scattergeo"
           }
          ],
          "scattergl": [
           {
            "marker": {
             "colorbar": {
              "outlinewidth": 0,
              "ticks": ""
             }
            },
            "type": "scattergl"
           }
          ],
          "scattermapbox": [
           {
            "marker": {
             "colorbar": {
              "outlinewidth": 0,
              "ticks": ""
             }
            },
            "type": "scattermapbox"
           }
          ],
          "scatterpolar": [
           {
            "marker": {
             "colorbar": {
              "outlinewidth": 0,
              "ticks": ""
             }
            },
            "type": "scatterpolar"
           }
          ],
          "scatterpolargl": [
           {
            "marker": {
             "colorbar": {
              "outlinewidth": 0,
              "ticks": ""
             }
            },
            "type": "scatterpolargl"
           }
          ],
          "scatterternary": [
           {
            "marker": {
             "colorbar": {
              "outlinewidth": 0,
              "ticks": ""
             }
            },
            "type": "scatterternary"
           }
          ],
          "surface": [
           {
            "colorbar": {
             "outlinewidth": 0,
             "ticks": ""
            },
            "colorscale": [
             [
              0,
              "#0d0887"
             ],
             [
              0.1111111111111111,
              "#46039f"
             ],
             [
              0.2222222222222222,
              "#7201a8"
             ],
             [
              0.3333333333333333,
              "#9c179e"
             ],
             [
              0.4444444444444444,
              "#bd3786"
             ],
             [
              0.5555555555555556,
              "#d8576b"
             ],
             [
              0.6666666666666666,
              "#ed7953"
             ],
             [
              0.7777777777777778,
              "#fb9f3a"
             ],
             [
              0.8888888888888888,
              "#fdca26"
             ],
             [
              1,
              "#f0f921"
             ]
            ],
            "type": "surface"
           }
          ],
          "table": [
           {
            "cells": {
             "fill": {
              "color": "#EBF0F8"
             },
             "line": {
              "color": "white"
             }
            },
            "header": {
             "fill": {
              "color": "#C8D4E3"
             },
             "line": {
              "color": "white"
             }
            },
            "type": "table"
           }
          ]
         },
         "layout": {
          "annotationdefaults": {
           "arrowcolor": "#2a3f5f",
           "arrowhead": 0,
           "arrowwidth": 1
          },
          "autotypenumbers": "strict",
          "coloraxis": {
           "colorbar": {
            "outlinewidth": 0,
            "ticks": ""
           }
          },
          "colorscale": {
           "diverging": [
            [
             0,
             "#8e0152"
            ],
            [
             0.1,
             "#c51b7d"
            ],
            [
             0.2,
             "#de77ae"
            ],
            [
             0.3,
             "#f1b6da"
            ],
            [
             0.4,
             "#fde0ef"
            ],
            [
             0.5,
             "#f7f7f7"
            ],
            [
             0.6,
             "#e6f5d0"
            ],
            [
             0.7,
             "#b8e186"
            ],
            [
             0.8,
             "#7fbc41"
            ],
            [
             0.9,
             "#4d9221"
            ],
            [
             1,
             "#276419"
            ]
           ],
           "sequential": [
            [
             0,
             "#0d0887"
            ],
            [
             0.1111111111111111,
             "#46039f"
            ],
            [
             0.2222222222222222,
             "#7201a8"
            ],
            [
             0.3333333333333333,
             "#9c179e"
            ],
            [
             0.4444444444444444,
             "#bd3786"
            ],
            [
             0.5555555555555556,
             "#d8576b"
            ],
            [
             0.6666666666666666,
             "#ed7953"
            ],
            [
             0.7777777777777778,
             "#fb9f3a"
            ],
            [
             0.8888888888888888,
             "#fdca26"
            ],
            [
             1,
             "#f0f921"
            ]
           ],
           "sequentialminus": [
            [
             0,
             "#0d0887"
            ],
            [
             0.1111111111111111,
             "#46039f"
            ],
            [
             0.2222222222222222,
             "#7201a8"
            ],
            [
             0.3333333333333333,
             "#9c179e"
            ],
            [
             0.4444444444444444,
             "#bd3786"
            ],
            [
             0.5555555555555556,
             "#d8576b"
            ],
            [
             0.6666666666666666,
             "#ed7953"
            ],
            [
             0.7777777777777778,
             "#fb9f3a"
            ],
            [
             0.8888888888888888,
             "#fdca26"
            ],
            [
             1,
             "#f0f921"
            ]
           ]
          },
          "colorway": [
           "#636efa",
           "#EF553B",
           "#00cc96",
           "#ab63fa",
           "#FFA15A",
           "#19d3f3",
           "#FF6692",
           "#B6E880",
           "#FF97FF",
           "#FECB52"
          ],
          "font": {
           "color": "#2a3f5f"
          },
          "geo": {
           "bgcolor": "white",
           "lakecolor": "white",
           "landcolor": "#E5ECF6",
           "showlakes": true,
           "showland": true,
           "subunitcolor": "white"
          },
          "hoverlabel": {
           "align": "left"
          },
          "hovermode": "closest",
          "mapbox": {
           "style": "light"
          },
          "paper_bgcolor": "white",
          "plot_bgcolor": "#E5ECF6",
          "polar": {
           "angularaxis": {
            "gridcolor": "white",
            "linecolor": "white",
            "ticks": ""
           },
           "bgcolor": "#E5ECF6",
           "radialaxis": {
            "gridcolor": "white",
            "linecolor": "white",
            "ticks": ""
           }
          },
          "scene": {
           "xaxis": {
            "backgroundcolor": "#E5ECF6",
            "gridcolor": "white",
            "gridwidth": 2,
            "linecolor": "white",
            "showbackground": true,
            "ticks": "",
            "zerolinecolor": "white"
           },
           "yaxis": {
            "backgroundcolor": "#E5ECF6",
            "gridcolor": "white",
            "gridwidth": 2,
            "linecolor": "white",
            "showbackground": true,
            "ticks": "",
            "zerolinecolor": "white"
           },
           "zaxis": {
            "backgroundcolor": "#E5ECF6",
            "gridcolor": "white",
            "gridwidth": 2,
            "linecolor": "white",
            "showbackground": true,
            "ticks": "",
            "zerolinecolor": "white"
           }
          },
          "shapedefaults": {
           "line": {
            "color": "#2a3f5f"
           }
          },
          "ternary": {
           "aaxis": {
            "gridcolor": "white",
            "linecolor": "white",
            "ticks": ""
           },
           "baxis": {
            "gridcolor": "white",
            "linecolor": "white",
            "ticks": ""
           },
           "bgcolor": "#E5ECF6",
           "caxis": {
            "gridcolor": "white",
            "linecolor": "white",
            "ticks": ""
           }
          },
          "title": {
           "x": 0.05
          },
          "xaxis": {
           "automargin": true,
           "gridcolor": "white",
           "linecolor": "white",
           "ticks": "",
           "title": {
            "standoff": 15
           },
           "zerolinecolor": "white",
           "zerolinewidth": 2
          },
          "yaxis": {
           "automargin": true,
           "gridcolor": "white",
           "linecolor": "white",
           "ticks": "",
           "title": {
            "standoff": 15
           },
           "zerolinecolor": "white",
           "zerolinewidth": 2
          }
         }
        },
        "title": {
         "text": "States with number of seats"
        }
       }
      },
      "text/html": [
       "<div>                            <div id=\"74d03fc0-2b80-4fd4-959d-b4f710aeacbf\" class=\"plotly-graph-div\" style=\"height:525px; width:100%;\"></div>            <script type=\"text/javascript\">                require([\"plotly\"], function(Plotly) {                    window.PLOTLYENV=window.PLOTLYENV || {};                                    if (document.getElementById(\"74d03fc0-2b80-4fd4-959d-b4f710aeacbf\")) {                    Plotly.newPlot(                        \"74d03fc0-2b80-4fd4-959d-b4f710aeacbf\",                        [{\"type\": \"bar\", \"x\": [\"Uttar Pradesh\", \"Maharashtra\", \"West Bengal\", \"Bihar\", \"Tamil Nadu\", \"Madhya Pradesh\", \"Karnataka\", \"Gujarat\", \"Rajasthan\", \"Andhra Pradesh\", \"Kerala\", \"Odisha\", \"Telangana\", \"Assam\", \"Jharkhand\", \"Punjab\", \"Chhattisgarh\", \"Haryana\", \"NCT OF Delhi\", \"Jammu & Kashmir\", \"Uttarakhand\", \"Himachal Pradesh\", \"Arunachal Pradesh\", \"Manipur\", \"Goa\", \"Meghalaya\", \"Tripura\", \"Andaman & Nicobar Islands\", \"Chandigarh\", \"Dadra & Nagar Haveli\", \"Daman & Diu\", \"Lakshadweep\", \"Mizoram\", \"Nagaland\", \"Puducherry\", \"Sikkim\"], \"y\": [78, 47, 42, 41, 38, 29, 28, 26, 25, 25, 20, 20, 17, 14, 14, 13, 11, 10, 7, 6, 5, 4, 2, 2, 2, 2, 2, 1, 1, 1, 1, 1, 1, 1, 1, 1]}],                        {\"template\": {\"data\": {\"bar\": [{\"error_x\": {\"color\": \"#2a3f5f\"}, \"error_y\": {\"color\": \"#2a3f5f\"}, \"marker\": {\"line\": {\"color\": \"#E5ECF6\", \"width\": 0.5}}, \"type\": \"bar\"}], \"barpolar\": [{\"marker\": {\"line\": {\"color\": \"#E5ECF6\", \"width\": 0.5}}, \"type\": \"barpolar\"}], \"carpet\": [{\"aaxis\": {\"endlinecolor\": \"#2a3f5f\", \"gridcolor\": \"white\", \"linecolor\": \"white\", \"minorgridcolor\": \"white\", \"startlinecolor\": \"#2a3f5f\"}, \"baxis\": {\"endlinecolor\": \"#2a3f5f\", \"gridcolor\": \"white\", \"linecolor\": \"white\", \"minorgridcolor\": \"white\", \"startlinecolor\": \"#2a3f5f\"}, \"type\": \"carpet\"}], \"choropleth\": [{\"colorbar\": {\"outlinewidth\": 0, \"ticks\": \"\"}, \"type\": \"choropleth\"}], \"contour\": [{\"colorbar\": {\"outlinewidth\": 0, \"ticks\": \"\"}, \"colorscale\": [[0.0, \"#0d0887\"], [0.1111111111111111, \"#46039f\"], [0.2222222222222222, \"#7201a8\"], [0.3333333333333333, \"#9c179e\"], [0.4444444444444444, \"#bd3786\"], [0.5555555555555556, \"#d8576b\"], [0.6666666666666666, \"#ed7953\"], [0.7777777777777778, \"#fb9f3a\"], [0.8888888888888888, \"#fdca26\"], [1.0, \"#f0f921\"]], \"type\": \"contour\"}], \"contourcarpet\": [{\"colorbar\": {\"outlinewidth\": 0, \"ticks\": \"\"}, \"type\": \"contourcarpet\"}], \"heatmap\": [{\"colorbar\": {\"outlinewidth\": 0, \"ticks\": \"\"}, \"colorscale\": [[0.0, \"#0d0887\"], [0.1111111111111111, \"#46039f\"], [0.2222222222222222, \"#7201a8\"], [0.3333333333333333, \"#9c179e\"], [0.4444444444444444, \"#bd3786\"], [0.5555555555555556, \"#d8576b\"], [0.6666666666666666, \"#ed7953\"], [0.7777777777777778, \"#fb9f3a\"], [0.8888888888888888, \"#fdca26\"], [1.0, \"#f0f921\"]], \"type\": \"heatmap\"}], \"heatmapgl\": [{\"colorbar\": {\"outlinewidth\": 0, \"ticks\": \"\"}, \"colorscale\": [[0.0, \"#0d0887\"], [0.1111111111111111, \"#46039f\"], [0.2222222222222222, \"#7201a8\"], [0.3333333333333333, \"#9c179e\"], [0.4444444444444444, \"#bd3786\"], [0.5555555555555556, \"#d8576b\"], [0.6666666666666666, \"#ed7953\"], [0.7777777777777778, \"#fb9f3a\"], [0.8888888888888888, \"#fdca26\"], [1.0, \"#f0f921\"]], \"type\": \"heatmapgl\"}], \"histogram\": [{\"marker\": {\"colorbar\": {\"outlinewidth\": 0, \"ticks\": \"\"}}, \"type\": \"histogram\"}], \"histogram2d\": [{\"colorbar\": {\"outlinewidth\": 0, \"ticks\": \"\"}, \"colorscale\": [[0.0, \"#0d0887\"], [0.1111111111111111, \"#46039f\"], [0.2222222222222222, \"#7201a8\"], [0.3333333333333333, \"#9c179e\"], [0.4444444444444444, \"#bd3786\"], [0.5555555555555556, \"#d8576b\"], [0.6666666666666666, \"#ed7953\"], [0.7777777777777778, \"#fb9f3a\"], [0.8888888888888888, \"#fdca26\"], [1.0, \"#f0f921\"]], \"type\": \"histogram2d\"}], \"histogram2dcontour\": [{\"colorbar\": {\"outlinewidth\": 0, \"ticks\": \"\"}, \"colorscale\": [[0.0, \"#0d0887\"], [0.1111111111111111, \"#46039f\"], [0.2222222222222222, \"#7201a8\"], [0.3333333333333333, \"#9c179e\"], [0.4444444444444444, \"#bd3786\"], [0.5555555555555556, \"#d8576b\"], [0.6666666666666666, \"#ed7953\"], [0.7777777777777778, \"#fb9f3a\"], [0.8888888888888888, \"#fdca26\"], [1.0, \"#f0f921\"]], \"type\": \"histogram2dcontour\"}], \"mesh3d\": [{\"colorbar\": {\"outlinewidth\": 0, \"ticks\": \"\"}, \"type\": \"mesh3d\"}], \"parcoords\": [{\"line\": {\"colorbar\": {\"outlinewidth\": 0, \"ticks\": \"\"}}, \"type\": \"parcoords\"}], \"pie\": [{\"automargin\": true, \"type\": \"pie\"}], \"scatter\": [{\"marker\": {\"colorbar\": {\"outlinewidth\": 0, \"ticks\": \"\"}}, \"type\": \"scatter\"}], \"scatter3d\": [{\"line\": {\"colorbar\": {\"outlinewidth\": 0, \"ticks\": \"\"}}, \"marker\": {\"colorbar\": {\"outlinewidth\": 0, \"ticks\": \"\"}}, \"type\": \"scatter3d\"}], \"scattercarpet\": [{\"marker\": {\"colorbar\": {\"outlinewidth\": 0, \"ticks\": \"\"}}, \"type\": \"scattercarpet\"}], \"scattergeo\": [{\"marker\": {\"colorbar\": {\"outlinewidth\": 0, \"ticks\": \"\"}}, \"type\": \"scattergeo\"}], \"scattergl\": [{\"marker\": {\"colorbar\": {\"outlinewidth\": 0, \"ticks\": \"\"}}, \"type\": \"scattergl\"}], \"scattermapbox\": [{\"marker\": {\"colorbar\": {\"outlinewidth\": 0, \"ticks\": \"\"}}, \"type\": \"scattermapbox\"}], \"scatterpolar\": [{\"marker\": {\"colorbar\": {\"outlinewidth\": 0, \"ticks\": \"\"}}, \"type\": \"scatterpolar\"}], \"scatterpolargl\": [{\"marker\": {\"colorbar\": {\"outlinewidth\": 0, \"ticks\": \"\"}}, \"type\": \"scatterpolargl\"}], \"scatterternary\": [{\"marker\": {\"colorbar\": {\"outlinewidth\": 0, \"ticks\": \"\"}}, \"type\": \"scatterternary\"}], \"surface\": [{\"colorbar\": {\"outlinewidth\": 0, \"ticks\": \"\"}, \"colorscale\": [[0.0, \"#0d0887\"], [0.1111111111111111, \"#46039f\"], [0.2222222222222222, \"#7201a8\"], [0.3333333333333333, \"#9c179e\"], [0.4444444444444444, \"#bd3786\"], [0.5555555555555556, \"#d8576b\"], [0.6666666666666666, \"#ed7953\"], [0.7777777777777778, \"#fb9f3a\"], [0.8888888888888888, \"#fdca26\"], [1.0, \"#f0f921\"]], \"type\": \"surface\"}], \"table\": [{\"cells\": {\"fill\": {\"color\": \"#EBF0F8\"}, \"line\": {\"color\": \"white\"}}, \"header\": {\"fill\": {\"color\": \"#C8D4E3\"}, \"line\": {\"color\": \"white\"}}, \"type\": \"table\"}]}, \"layout\": {\"annotationdefaults\": {\"arrowcolor\": \"#2a3f5f\", \"arrowhead\": 0, \"arrowwidth\": 1}, \"autotypenumbers\": \"strict\", \"coloraxis\": {\"colorbar\": {\"outlinewidth\": 0, \"ticks\": \"\"}}, \"colorscale\": {\"diverging\": [[0, \"#8e0152\"], [0.1, \"#c51b7d\"], [0.2, \"#de77ae\"], [0.3, \"#f1b6da\"], [0.4, \"#fde0ef\"], [0.5, \"#f7f7f7\"], [0.6, \"#e6f5d0\"], [0.7, \"#b8e186\"], [0.8, \"#7fbc41\"], [0.9, \"#4d9221\"], [1, \"#276419\"]], \"sequential\": [[0.0, \"#0d0887\"], [0.1111111111111111, \"#46039f\"], [0.2222222222222222, \"#7201a8\"], [0.3333333333333333, \"#9c179e\"], [0.4444444444444444, \"#bd3786\"], [0.5555555555555556, \"#d8576b\"], [0.6666666666666666, \"#ed7953\"], [0.7777777777777778, \"#fb9f3a\"], [0.8888888888888888, \"#fdca26\"], [1.0, \"#f0f921\"]], \"sequentialminus\": [[0.0, \"#0d0887\"], [0.1111111111111111, \"#46039f\"], [0.2222222222222222, \"#7201a8\"], [0.3333333333333333, \"#9c179e\"], [0.4444444444444444, \"#bd3786\"], [0.5555555555555556, \"#d8576b\"], [0.6666666666666666, \"#ed7953\"], [0.7777777777777778, \"#fb9f3a\"], [0.8888888888888888, \"#fdca26\"], [1.0, \"#f0f921\"]]}, \"colorway\": [\"#636efa\", \"#EF553B\", \"#00cc96\", \"#ab63fa\", \"#FFA15A\", \"#19d3f3\", \"#FF6692\", \"#B6E880\", \"#FF97FF\", \"#FECB52\"], \"font\": {\"color\": \"#2a3f5f\"}, \"geo\": {\"bgcolor\": \"white\", \"lakecolor\": \"white\", \"landcolor\": \"#E5ECF6\", \"showlakes\": true, \"showland\": true, \"subunitcolor\": \"white\"}, \"hoverlabel\": {\"align\": \"left\"}, \"hovermode\": \"closest\", \"mapbox\": {\"style\": \"light\"}, \"paper_bgcolor\": \"white\", \"plot_bgcolor\": \"#E5ECF6\", \"polar\": {\"angularaxis\": {\"gridcolor\": \"white\", \"linecolor\": \"white\", \"ticks\": \"\"}, \"bgcolor\": \"#E5ECF6\", \"radialaxis\": {\"gridcolor\": \"white\", \"linecolor\": \"white\", \"ticks\": \"\"}}, \"scene\": {\"xaxis\": {\"backgroundcolor\": \"#E5ECF6\", \"gridcolor\": \"white\", \"gridwidth\": 2, \"linecolor\": \"white\", \"showbackground\": true, \"ticks\": \"\", \"zerolinecolor\": \"white\"}, \"yaxis\": {\"backgroundcolor\": \"#E5ECF6\", \"gridcolor\": \"white\", \"gridwidth\": 2, \"linecolor\": \"white\", \"showbackground\": true, \"ticks\": \"\", \"zerolinecolor\": \"white\"}, \"zaxis\": {\"backgroundcolor\": \"#E5ECF6\", \"gridcolor\": \"white\", \"gridwidth\": 2, \"linecolor\": \"white\", \"showbackground\": true, \"ticks\": \"\", \"zerolinecolor\": \"white\"}}, \"shapedefaults\": {\"line\": {\"color\": \"#2a3f5f\"}}, \"ternary\": {\"aaxis\": {\"gridcolor\": \"white\", \"linecolor\": \"white\", \"ticks\": \"\"}, \"baxis\": {\"gridcolor\": \"white\", \"linecolor\": \"white\", \"ticks\": \"\"}, \"bgcolor\": \"#E5ECF6\", \"caxis\": {\"gridcolor\": \"white\", \"linecolor\": \"white\", \"ticks\": \"\"}}, \"title\": {\"x\": 0.05}, \"xaxis\": {\"automargin\": true, \"gridcolor\": \"white\", \"linecolor\": \"white\", \"ticks\": \"\", \"title\": {\"standoff\": 15}, \"zerolinecolor\": \"white\", \"zerolinewidth\": 2}, \"yaxis\": {\"automargin\": true, \"gridcolor\": \"white\", \"linecolor\": \"white\", \"ticks\": \"\", \"title\": {\"standoff\": 15}, \"zerolinecolor\": \"white\", \"zerolinewidth\": 2}}}, \"title\": {\"text\": \"States with number of seats\"}},                        {\"responsive\": true}                    ).then(function(){\n",
       "                            \n",
       "var gd = document.getElementById('74d03fc0-2b80-4fd4-959d-b4f710aeacbf');\n",
       "var x = new MutationObserver(function (mutations, observer) {{\n",
       "        var display = window.getComputedStyle(gd).display;\n",
       "        if (!display || display === 'none') {{\n",
       "            console.log([gd, 'removed!']);\n",
       "            Plotly.purge(gd);\n",
       "            observer.disconnect();\n",
       "        }}\n",
       "}});\n",
       "\n",
       "// Listen for the removal of the full notebook cells\n",
       "var notebookContainer = gd.closest('#notebook-container');\n",
       "if (notebookContainer) {{\n",
       "    x.observe(notebookContainer, {childList: true});\n",
       "}}\n",
       "\n",
       "// Listen for the clearing of the current output cell\n",
       "var outputEl = gd.closest('.output');\n",
       "if (outputEl) {{\n",
       "    x.observe(outputEl, {childList: true});\n",
       "}}\n",
       "\n",
       "                        })                };                });            </script>        </div>"
      ]
     },
     "metadata": {},
     "output_type": "display_data"
    },
    {
     "name": "stdout",
     "output_type": "stream",
     "text": [
      "['Uttar Pradesh', 'Maharashtra', 'West Bengal', 'Bihar', 'Tamil Nadu', 'Madhya Pradesh', 'Karnataka', 'Gujarat', 'Rajasthan', 'Andhra Pradesh', 'Kerala', 'Odisha', 'Telangana', 'Assam', 'Jharkhand', 'Punjab', 'Chhattisgarh', 'Haryana', 'NCT OF Delhi', 'Jammu & Kashmir', 'Uttarakhand', 'Himachal Pradesh', 'Arunachal Pradesh', 'Manipur', 'Goa', 'Meghalaya', 'Tripura', 'Andaman & Nicobar Islands', 'Chandigarh', 'Dadra & Nagar Haveli', 'Daman & Diu', 'Lakshadweep', 'Mizoram', 'Nagaland', 'Puducherry', 'Sikkim']\n",
      "[78, 47, 42, 41, 38, 29, 28, 26, 25, 25, 20, 20, 17, 14, 14, 13, 11, 10, 7, 6, 5, 4, 2, 2, 2, 2, 2, 1, 1, 1, 1, 1, 1, 1, 1, 1]\n"
     ]
    }
   ],
   "source": [
    "a=LS_candidates['STATE'].unique()\n",
    "temp={}\n",
    "for i in a:\n",
    "    temp[i]=LS_candidates[(LS_candidates['STATE']==i) & (LS_candidates['WINNER']==1)]['STATE'].count()\n",
    "figure=go.Figure()\n",
    "temp=sorted(temp.items(), key=lambda x: x[1], reverse=True)\n",
    "temp = {k: v for k, v in temp}\n",
    "top15 = {k: temp[k] for k in list(temp)[:len(a)]}\n",
    "plt.title(\"States with number of seats\")\n",
    "plt.bar(top15.keys(),top15.values())\n",
    "plt.xticks(list(top15.keys()), rotation='vertical')\n",
    "plt.show()\n",
    "figure.update_layout(title=\"States with number of seats\")\n",
    "figure.add_trace(go.Bar(y=list(top15.values()),x=list(top15.keys())))\n",
    "figure.show()"
   ]
  },
  {
   "cell_type": "code",
   "execution_count": 394,
   "metadata": {},
   "outputs": [
    {
     "data": {
      "image/png": "[encoded data removed]",
      "text/plain": [
       "<Figure size 432x288 with 1 Axes>"
      ]
     },
     "metadata": {
      "needs_background": "light"
     },
     "output_type": "display_data"
    }
   ],
   "source": [
    "a=LS_1[LS_1['Total Assets']>0]['Candidate']\n",
    "temp={}\n",
    "for i in a:\n",
    "    temp[i]=LS_1[(LS_1['Total Assets']>0) & (LS_1['Candidate']==i)]['Total Assets'].values[0]\n",
    "figure=go.Figure()\n",
    "temp=sorted(temp.items(), key=lambda x: x[1], reverse=True)\n",
    "temp = {k: v for k, v in temp}\n",
    "top15 = {k: temp[k] for k in list(temp)[:15]}\n",
    "plt.bar(top15.keys(),top15.values())\n",
    "plt.xticks(list(top15.keys()), rotation='vertical')\n",
    "plt.title(\"Candidates who have highest Assets since 2004\",pad=20)\n",
    "plt.show()"
   ]
  },
  {
   "cell_type": "code",
   "execution_count": 384,
   "metadata": {},
   "outputs": [
    {
     "data": {
      "image/png": "[encoded data removed]",
      "text/plain": [
       "<Figure size 432x288 with 1 Axes>"
      ]
     },
     "metadata": {
      "needs_background": "light"
     },
     "output_type": "display_data"
    }
   ],
   "source": [
    "a=list(LS_candidates['CONSTITUENCY'].unique())\n",
    "temp={}\n",
    "for i in a:\n",
    "    temp[i]=LS_candidates[LS_candidates['CONSTITUENCY']==i]['TOTAL ELECTORS'].unique()[0]\n",
    "figure=go.Figure()\n",
    "temp=sorted(temp.items(), key=lambda x: x[1], reverse=True)\n",
    "temp = {k: v for k, v in temp}\n",
    "top15 = {k: temp[k] for k in list(temp)[:20]}\n",
    "plt.title(\"highest number of electors in constituency\")\n",
    "plt.bar(top15.keys(),top15.values())\n",
    "plt.xticks(list(top15.keys()), rotation='vertical')\n",
    "plt.show()"
   ]
  },
  {
   "cell_type": "code",
   "execution_count": 388,
   "metadata": {},
   "outputs": [
    {
     "data": {
      "image/png": "[encoded data removed]",
      "text/plain": [
       "<Figure size 432x288 with 1 Axes>"
      ]
     },
     "metadata": {
      "needs_background": "light"
     },
     "output_type": "display_data"
    }
   ],
   "source": [
    "a=ge19[ge19['migrant_votes']>0]['candidate_name']\n",
    "temp={}\n",
    "for i in a:\n",
    "    temp[i]=ge19[(ge19['migrant_votes']>0) & (ge19['candidate_name']==i)]['migrant_votes'].values[0]\n",
    "figure=go.Figure()\n",
    "temp=sorted(temp.items(), key=lambda x: x[1], reverse=True)\n",
    "temp = {k: v for k, v in temp}\n",
    "top15 = {k: temp[k] for k in list(temp)[:15]}\n",
    "plt.bar(top15.keys(),top15.values())\n",
    "plt.xticks(list(top15.keys()), rotation='vertical')\n",
    "plt.title(\"Candidates who got high migrant votes\",pad=20)\n",
    "plt.show()"
   ]
  },
  {
   "cell_type": "code",
   "execution_count": 393,
   "metadata": {
    "scrolled": false
   },
   "outputs": [
    {
     "data": {
      "image/png": "[encoded data removed]",
      "text/plain": [
       "<Figure size 432x288 with 1 Axes>"
      ]
     },
     "metadata": {
      "needs_background": "light"
     },
     "output_type": "display_data"
    }
   ],
   "source": [
    "a=[20,30,40,50,60,70,80,90]\n",
    "temp={}\n",
    "for i in range(len(a)-1):\n",
    "    temp[str(a[i])+'-'+str(a[i+1])]=LS_candidates[(LS_candidates['AGE']>=a[i])& (LS_candidates['AGE']<a[i+1])]['AGE'].count()\n",
    "plt.bar(temp.keys(),temp.values())\n",
    "plt.xticks(list(temp.keys()), rotation='vertical')\n",
    "plt.title(\"Age group of candidates\")\n",
    "plt.show()\n"
   ]
  },
  {
   "cell_type": "code",
   "execution_count": 471,
   "metadata": {},
   "outputs": [
    {
     "data": {
      "image/png": "[encoded data removed]",
      "text/plain": [
       "<Figure size 432x288 with 1 Axes>"
      ]
     },
     "metadata": {
      "needs_background": "light"
     },
     "output_type": "display_data"
    },
    {
     "name": "stdout",
     "output_type": "stream",
     "text": [
      "male\n",
      "1760 463\n",
      "female\n",
      "258 76\n"
     ]
    }
   ],
   "source": [
    "a=LS_candidates[LS_candidates['GENDER']=='MALE']['GENDER'].count()\n",
    "m_win=LS_candidates[(LS_candidates['GENDER']=='MALE') & (LS_candidates['WINNER']==1)]['GENDER'].count()\n",
    "b=LS_candidates[LS_candidates['GENDER']=='FEMALE']['GENDER'].count()\n",
    "f_win=LS_candidates[(LS_candidates['GENDER']=='FEMALE') & (LS_candidates['WINNER']==1)]['GENDER'].count()\n",
    "\n",
    "per_m=(m_win/a)*100\n",
    "per_f=(f_win/b)*100\n",
    "y=[per_m,per_f]\n",
    "x=['male_wins_percentage','female_wins_percentage']\n",
    "fig = plt.figure()\n",
    "ax = fig.add_axes([0,0,1,1])\n",
    "ax.bar(x,y)\n",
    "plt.show()\n",
    "print(\"male\")\n",
    "print(a,m_win)\n",
    "print(\"female\")\n",
    "print(b,f_win)"
   ]
  },
  {
   "cell_type": "code",
   "execution_count": 469,
   "metadata": {},
   "outputs": [
    {
     "data": {
      "image/png": "[encoded data removed]",
      "text/plain": [
       "<Figure size 432x288 with 1 Axes>"
      ]
     },
     "metadata": {
      "needs_background": "light"
     },
     "output_type": "display_data"
    },
    {
     "name": "stdout",
     "output_type": "stream",
     "text": [
      "criminal\n",
      "754 233\n",
      "not criminal\n",
      "1509 306\n",
      "30.90185676392573 20.278330019880716\n"
     ]
    }
   ],
   "source": [
    "a=LS_1[(LS_1['Criminal Cases']>0)]['Criminal Cases'].count()\n",
    "a_c_win=LS_1[(LS_1['Criminal Cases']>0)&(LS_1['Winner']==1)]['Criminal Cases'].count()\n",
    "LS_candidates['CRIMINAL\\nCASES']=LS_candidates['CRIMINAL\\nCASES'].astype(int)\n",
    "a_19=LS_candidates[(LS_candidates['CRIMINAL\\nCASES']>0)]['CRIMINAL\\nCASES'].count()\n",
    "a_c_win19=LS_candidates[(LS_candidates['CRIMINAL\\nCASES']>0)&(LS_candidates['WINNER']==1)]['CRIMINAL\\nCASES'].count()\n",
    "\n",
    "a_19_nocases=LS_candidates[(LS_candidates['CRIMINAL\\nCASES']==0)]['CRIMINAL\\nCASES'].count()\n",
    "a_c_win19_nocases=LS_candidates[(LS_candidates['CRIMINAL\\nCASES']==0)&(LS_candidates['WINNER']==1)]['CRIMINAL\\nCASES'].count()\n",
    "\n",
    "criminal_perc=(a_c_win19/a_19)*100\n",
    "not_criminal_perc=(a_c_win19_nocases/a_19_nocases)*100\n",
    "\n",
    "fig1 = plt.figure()\n",
    "x=['criminal_perc','not_criminal_perc']\n",
    "y=[criminal_perc,not_criminal_perc]\n",
    "ax1 = fig1.add_axes([0,0,1,1])\n",
    "ax1.bar(x,y)\n",
    "plt.title(\"criminals and not criminals winning share in their categories\")\n",
    "plt.show()\n",
    "print(\"criminal\")\n",
    "print(a_19,a_c_win19)\n",
    "print(\"not criminal\")\n",
    "print(a_19_nocases,a_c_win19_nocases)\n",
    "print(criminal_perc,not_criminal_perc)"
   ]
  },
  {
   "cell_type": "code",
   "execution_count": 473,
   "metadata": {},
   "outputs": [
    {
     "data": {
      "image/png": "[encoded data removed]",
      "text/plain": [
       "<Figure size 432x288 with 1 Axes>"
      ]
     },
     "metadata": {
      "needs_background": "light"
     },
     "output_type": "display_data"
    },
    {
     "data": {
      "application/vnd.plotly.v1+json": {
       "config": {
        "plotlyServerURL": "https://plot.ly"
       },
       "data": [
        {
         "type": "bar",
         "x": [
          "Uttar Pradesh",
          "Bihar",
          "Maharashtra",
          "West Bengal",
          "Tamil Nadu",
          "Kerala",
          "Andhra Pradesh",
          "Telangana",
          "Madhya Pradesh",
          "Odisha",
          "Karnataka",
          "Jharkhand",
          "Gujarat",
          "Punjab",
          "Rajasthan",
          "Assam",
          "Haryana",
          "Jammu & Kashmir",
          "Chhattisgarh",
          "NCT OF Delhi",
          "Himachal Pradesh",
          "Uttarakhand",
          "Arunachal Pradesh",
          "Dadra & Nagar Haveli",
          "Daman & Diu",
          "Manipur",
          "Tripura",
          "Andaman & Nicobar Islands",
          "Lakshadweep",
          "Goa",
          "Chandigarh",
          "Mizoram",
          "Nagaland",
          "Puducherry",
          "Meghalaya",
          "Sikkim"
         ],
         "y": [
          125,
          107,
          93,
          79,
          54,
          44,
          32,
          30,
          24,
          23,
          23,
          23,
          17,
          14,
          12,
          9,
          7,
          6,
          6,
          6,
          4,
          3,
          2,
          2,
          2,
          2,
          2,
          1,
          1,
          1,
          0,
          0,
          0,
          0,
          0,
          0
         ]
        }
       ],
       "layout": {
        "template": {
         "data": {
          "bar": [
           {
            "error_x": {
             "color": "#2a3f5f"
            },
            "error_y": {
             "color": "#2a3f5f"
            },
            "marker": {
             "line": {
              "color": "#E5ECF6",
              "width": 0.5
             }
            },
            "type": "bar"
           }
          ],
          "barpolar": [
           {
            "marker": {
             "line": {
              "color": "#E5ECF6",
              "width": 0.5
             }
            },
            "type": "barpolar"
           }
          ],
          "carpet": [
           {
            "aaxis": {
             "endlinecolor": "#2a3f5f",
             "gridcolor": "white",
             "linecolor": "white",
             "minorgridcolor": "white",
             "startlinecolor": "#2a3f5f"
            },
            "baxis": {
             "endlinecolor": "#2a3f5f",
             "gridcolor": "white",
             "linecolor": "white",
             "minorgridcolor": "white",
             "startlinecolor": "#2a3f5f"
            },
            "type": "carpet"
           }
          ],
          "choropleth": [
           {
            "colorbar": {
             "outlinewidth": 0,
             "ticks": ""
            },
            "type": "choropleth"
           }
          ],
          "contour": [
           {
            "colorbar": {
             "outlinewidth": 0,
             "ticks": ""
            },
            "colorscale": [
             [
              0,
              "#0d0887"
             ],
             [
              0.1111111111111111,
              "#46039f"
             ],
             [
              0.2222222222222222,
              "#7201a8"
             ],
             [
              0.3333333333333333,
              "#9c179e"
             ],
             [
              0.4444444444444444,
              "#bd3786"
             ],
             [
              0.5555555555555556,
              "#d8576b"
             ],
             [
              0.6666666666666666,
              "#ed7953"
             ],
             [
              0.7777777777777778,
              "#fb9f3a"
             ],
             [
              0.8888888888888888,
              "#fdca26"
             ],
             [
              1,
              "#f0f921"
             ]
            ],
            "type": "contour"
           }
          ],
          "contourcarpet": [
           {
            "colorbar": {
             "outlinewidth": 0,
             "ticks": ""
            },
            "type": "contourcarpet"
           }
          ],
          "heatmap": [
           {
            "colorbar": {
             "outlinewidth": 0,
             "ticks": ""
            },
            "colorscale": [
             [
              0,
              "#0d0887"
             ],
             [
              0.1111111111111111,
              "#46039f"
             ],
             [
              0.2222222222222222,
              "#7201a8"
             ],
             [
              0.3333333333333333,
              "#9c179e"
             ],
             [
              0.4444444444444444,
              "#bd3786"
             ],
             [
              0.5555555555555556,
              "#d8576b"
             ],
             [
              0.6666666666666666,
              "#ed7953"
             ],
             [
              0.7777777777777778,
              "#fb9f3a"
             ],
             [
              0.8888888888888888,
              "#fdca26"
             ],
             [
              1,
              "#f0f921"
             ]
            ],
            "type": "heatmap"
           }
          ],
          "heatmapgl": [
           {
            "colorbar": {
             "outlinewidth": 0,
             "ticks": ""
            },
            "colorscale": [
             [
              0,
              "#0d0887"
             ],
             [
              0.1111111111111111,
              "#46039f"
             ],
             [
              0.2222222222222222,
              "#7201a8"
             ],
             [
              0.3333333333333333,
              "#9c179e"
             ],
             [
              0.4444444444444444,
              "#bd3786"
             ],
             [
              0.5555555555555556,
              "#d8576b"
             ],
             [
              0.6666666666666666,
              "#ed7953"
             ],
             [
              0.7777777777777778,
              "#fb9f3a"
             ],
             [
              0.8888888888888888,
              "#fdca26"
             ],
             [
              1,
              "#f0f921"
             ]
            ],
            "type": "heatmapgl"
           }
          ],
          "histogram": [
           {
            "marker": {
             "colorbar": {
              "outlinewidth": 0,
              "ticks": ""
             }
            },
            "type": "histogram"
           }
          ],
          "histogram2d": [
           {
            "colorbar": {
             "outlinewidth": 0,
             "ticks": ""
            },
            "colorscale": [
             [
              0,
              "#0d0887"
             ],
             [
              0.1111111111111111,
              "#46039f"
             ],
             [
              0.2222222222222222,
              "#7201a8"
             ],
             [
              0.3333333333333333,
              "#9c179e"
             ],
             [
              0.4444444444444444,
              "#bd3786"
             ],
             [
              0.5555555555555556,
              "#d8576b"
             ],
             [
              0.6666666666666666,
              "#ed7953"
             ],
             [
              0.7777777777777778,
              "#fb9f3a"
             ],
             [
              0.8888888888888888,
              "#fdca26"
             ],
             [
              1,
              "#f0f921"
             ]
            ],
            "type": "histogram2d"
           }
          ],
          "histogram2dcontour": [
           {
            "colorbar": {
             "outlinewidth": 0,
             "ticks": ""
            },
            "colorscale": [
             [
              0,
              "#0d0887"
             ],
             [
              0.1111111111111111,
              "#46039f"
             ],
             [
              0.2222222222222222,
              "#7201a8"
             ],
             [
              0.3333333333333333,
              "#9c179e"
             ],
             [
              0.4444444444444444,
              "#bd3786"
             ],
             [
              0.5555555555555556,
              "#d8576b"
             ],
             [
              0.6666666666666666,
              "#ed7953"
             ],
             [
              0.7777777777777778,
              "#fb9f3a"
             ],
             [
              0.8888888888888888,
              "#fdca26"
             ],
             [
              1,
              "#f0f921"
             ]
            ],
            "type": "histogram2dcontour"
           }
          ],
          "mesh3d": [
           {
            "colorbar": {
             "outlinewidth": 0,
             "ticks": ""
            },
            "type": "mesh3d"
           }
          ],
          "parcoords": [
           {
            "line": {
             "colorbar": {
              "outlinewidth": 0,
              "ticks": ""
             }
            },
            "type": "parcoords"
           }
          ],
          "pie": [
           {
            "automargin": true,
            "type": "pie"
           }
          ],
          "scatter": [
           {
            "marker": {
             "colorbar": {
              "outlinewidth": 0,
              "ticks": ""
             }
            },
            "type": "scatter"
           }
          ],
          "scatter3d": [
           {
            "line": {
             "colorbar": {
              "outlinewidth": 0,
              "ticks": ""
             }
            },
            "marker": {
             "colorbar": {
              "outlinewidth": 0,
              "ticks": ""
             }
            },
            "type": "scatter3d"
           }
          ],
          "scattercarpet": [
           {
            "marker": {
             "colorbar": {
              "outlinewidth": 0,
              "ticks": ""
             }
            },
            "type": "scattercarpet"
           }
          ],
          "scattergeo": [
           {
            "marker": {
             "colorbar": {
              "outlinewidth": 0,
              "ticks": ""
             }
            },
            "type": "scattergeo"
           }
          ],
          "scattergl": [
           {
            "marker": {
             "colorbar": {
              "outlinewidth": 0,
              "ticks": ""
             }
            },
            "type": "scattergl"
           }
          ],
          "scattermapbox": [
           {
            "marker": {
             "colorbar": {
              "outlinewidth": 0,
              "ticks": ""
             }
            },
            "type": "scattermapbox"
           }
          ],
          "scatterpolar": [
           {
            "marker": {
             "colorbar": {
              "outlinewidth": 0,
              "ticks": ""
             }
            },
            "type": "scatterpolar"
           }
          ],
          "scatterpolargl": [
           {
            "marker": {
             "colorbar": {
              "outlinewidth": 0,
              "ticks": ""
             }
            },
            "type": "scatterpolargl"
           }
          ],
          "scatterternary": [
           {
            "marker": {
             "colorbar": {
              "outlinewidth": 0,
              "ticks": ""
             }
            },
            "type": "scatterternary"
           }
          ],
          "surface": [
           {
            "colorbar": {
             "outlinewidth": 0,
             "ticks": ""
            },
            "colorscale": [
             [
              0,
              "#0d0887"
             ],
             [
              0.1111111111111111,
              "#46039f"
             ],
             [
              0.2222222222222222,
              "#7201a8"
             ],
             [
              0.3333333333333333,
              "#9c179e"
             ],
             [
              0.4444444444444444,
              "#bd3786"
             ],
             [
              0.5555555555555556,
              "#d8576b"
             ],
             [
              0.6666666666666666,
              "#ed7953"
             ],
             [
              0.7777777777777778,
              "#fb9f3a"
             ],
             [
              0.8888888888888888,
              "#fdca26"
             ],
             [
              1,
              "#f0f921"
             ]
            ],
            "type": "surface"
           }
          ],
          "table": [
           {
            "cells": {
             "fill": {
              "color": "#EBF0F8"
             },
             "line": {
              "color": "white"
             }
            },
            "header": {
             "fill": {
              "color": "#C8D4E3"
             },
             "line": {
              "color": "white"
             }
            },
            "type": "table"
           }
          ]
         },
         "layout": {
          "annotationdefaults": {
           "arrowcolor": "#2a3f5f",
           "arrowhead": 0,
           "arrowwidth": 1
          },
          "autotypenumbers": "strict",
          "coloraxis": {
           "colorbar": {
            "outlinewidth": 0,
            "ticks": ""
           }
          },
          "colorscale": {
           "diverging": [
            [
             0,
             "#8e0152"
            ],
            [
             0.1,
             "#c51b7d"
            ],
            [
             0.2,
             "#de77ae"
            ],
            [
             0.3,
             "#f1b6da"
            ],
            [
             0.4,
             "#fde0ef"
            ],
            [
             0.5,
             "#f7f7f7"
            ],
            [
             0.6,
             "#e6f5d0"
            ],
            [
             0.7,
             "#b8e186"
            ],
            [
             0.8,
             "#7fbc41"
            ],
            [
             0.9,
             "#4d9221"
            ],
            [
             1,
             "#276419"
            ]
           ],
           "sequential": [
            [
             0,
             "#0d0887"
            ],
            [
             0.1111111111111111,
             "#46039f"
            ],
            [
             0.2222222222222222,
             "#7201a8"
            ],
            [
             0.3333333333333333,
             "#9c179e"
            ],
            [
             0.4444444444444444,
             "#bd3786"
            ],
            [
             0.5555555555555556,
             "#d8576b"
            ],
            [
             0.6666666666666666,
             "#ed7953"
            ],
            [
             0.7777777777777778,
             "#fb9f3a"
            ],
            [
             0.8888888888888888,
             "#fdca26"
            ],
            [
             1,
             "#f0f921"
            ]
           ],
           "sequentialminus": [
            [
             0,
             "#0d0887"
            ],
            [
             0.1111111111111111,
             "#46039f"
            ],
            [
             0.2222222222222222,
             "#7201a8"
            ],
            [
             0.3333333333333333,
             "#9c179e"
            ],
            [
             0.4444444444444444,
             "#bd3786"
            ],
            [
             0.5555555555555556,
             "#d8576b"
            ],
            [
             0.6666666666666666,
             "#ed7953"
            ],
            [
             0.7777777777777778,
             "#fb9f3a"
            ],
            [
             0.8888888888888888,
             "#fdca26"
            ],
            [
             1,
             "#f0f921"
            ]
           ]
          },
          "colorway": [
           "#636efa",
           "#EF553B",
           "#00cc96",
           "#ab63fa",
           "#FFA15A",
           "#19d3f3",
           "#FF6692",
           "#B6E880",
           "#FF97FF",
           "#FECB52"
          ],
          "font": {
           "color": "#2a3f5f"
          },
          "geo": {
           "bgcolor": "white",
           "lakecolor": "white",
           "landcolor": "#E5ECF6",
           "showlakes": true,
           "showland": true,
           "subunitcolor": "white"
          },
          "hoverlabel": {
           "align": "left"
          },
          "hovermode": "closest",
          "mapbox": {
           "style": "light"
          },
          "paper_bgcolor": "white",
          "plot_bgcolor": "#E5ECF6",
          "polar": {
           "angularaxis": {
            "gridcolor": "white",
            "linecolor": "white",
            "ticks": ""
           },
           "bgcolor": "#E5ECF6",
           "radialaxis": {
            "gridcolor": "white",
            "linecolor": "white",
            "ticks": ""
           }
          },
          "scene": {
           "xaxis": {
            "backgroundcolor": "#E5ECF6",
            "gridcolor": "white",
            "gridwidth": 2,
            "linecolor": "white",
            "showbackground": true,
            "ticks": "",
            "zerolinecolor": "white"
           },
           "yaxis": {
            "backgroundcolor": "#E5ECF6",
            "gridcolor": "white",
            "gridwidth": 2,
            "linecolor": "white",
            "showbackground": true,
            "ticks": "",
            "zerolinecolor": "white"
           },
           "zaxis": {
            "backgroundcolor": "#E5ECF6",
            "gridcolor": "white",
            "gridwidth": 2,
            "linecolor": "white",
            "showbackground": true,
            "ticks": "",
            "zerolinecolor": "white"
           }
          },
          "shapedefaults": {
           "line": {
            "color": "#2a3f5f"
           }
          },
          "ternary": {
           "aaxis": {
            "gridcolor": "white",
            "linecolor": "white",
            "ticks": ""
           },
           "baxis": {
            "gridcolor": "white",
            "linecolor": "white",
            "ticks": ""
           },
           "bgcolor": "#E5ECF6",
           "caxis": {
            "gridcolor": "white",
            "linecolor": "white",
            "ticks": ""
           }
          },
          "title": {
           "x": 0.05
          },
          "xaxis": {
           "automargin": true,
           "gridcolor": "white",
           "linecolor": "white",
           "ticks": "",
           "title": {
            "standoff": 15
           },
           "zerolinecolor": "white",
           "zerolinewidth": 2
          },
          "yaxis": {
           "automargin": true,
           "gridcolor": "white",
           "linecolor": "white",
           "ticks": "",
           "title": {
            "standoff": 15
           },
           "zerolinecolor": "white",
           "zerolinewidth": 2
          }
         }
        }
       }
      },
      "text/html": [
       "<div>                            <div id=\"404fd5d3-a73e-47d5-867e-8c7910e970a0\" class=\"plotly-graph-div\" style=\"height:525px; width:100%;\"></div>            <script type=\"text/javascript\">                require([\"plotly\"], function(Plotly) {                    window.PLOTLYENV=window.PLOTLYENV || {};                                    if (document.getElementById(\"404fd5d3-a73e-47d5-867e-8c7910e970a0\")) {                    Plotly.newPlot(                        \"404fd5d3-a73e-47d5-867e-8c7910e970a0\",                        [{\"type\": \"bar\", \"x\": [\"Uttar Pradesh\", \"Bihar\", \"Maharashtra\", \"West Bengal\", \"Tamil Nadu\", \"Kerala\", \"Andhra Pradesh\", \"Telangana\", \"Madhya Pradesh\", \"Odisha\", \"Karnataka\", \"Jharkhand\", \"Gujarat\", \"Punjab\", \"Rajasthan\", \"Assam\", \"Haryana\", \"Jammu & Kashmir\", \"Chhattisgarh\", \"NCT OF Delhi\", \"Himachal Pradesh\", \"Uttarakhand\", \"Arunachal Pradesh\", \"Dadra & Nagar Haveli\", \"Daman & Diu\", \"Manipur\", \"Tripura\", \"Andaman & Nicobar Islands\", \"Lakshadweep\", \"Goa\", \"Chandigarh\", \"Mizoram\", \"Nagaland\", \"Puducherry\", \"Meghalaya\", \"Sikkim\"], \"y\": [125, 107, 93, 79, 54, 44, 32, 30, 24, 23, 23, 23, 17, 14, 12, 9, 7, 6, 6, 6, 4, 3, 2, 2, 2, 2, 2, 1, 1, 1, 0, 0, 0, 0, 0, 0]}],                        {\"template\": {\"data\": {\"bar\": [{\"error_x\": {\"color\": \"#2a3f5f\"}, \"error_y\": {\"color\": \"#2a3f5f\"}, \"marker\": {\"line\": {\"color\": \"#E5ECF6\", \"width\": 0.5}}, \"type\": \"bar\"}], \"barpolar\": [{\"marker\": {\"line\": {\"color\": \"#E5ECF6\", \"width\": 0.5}}, \"type\": \"barpolar\"}], \"carpet\": [{\"aaxis\": {\"endlinecolor\": \"#2a3f5f\", \"gridcolor\": \"white\", \"linecolor\": \"white\", \"minorgridcolor\": \"white\", \"startlinecolor\": \"#2a3f5f\"}, \"baxis\": {\"endlinecolor\": \"#2a3f5f\", \"gridcolor\": \"white\", \"linecolor\": \"white\", \"minorgridcolor\": \"white\", \"startlinecolor\": \"#2a3f5f\"}, \"type\": \"carpet\"}], \"choropleth\": [{\"colorbar\": {\"outlinewidth\": 0, \"ticks\": \"\"}, \"type\": \"choropleth\"}], \"contour\": [{\"colorbar\": {\"outlinewidth\": 0, \"ticks\": \"\"}, \"colorscale\": [[0.0, \"#0d0887\"], [0.1111111111111111, \"#46039f\"], [0.2222222222222222, \"#7201a8\"], [0.3333333333333333, \"#9c179e\"], [0.4444444444444444, \"#bd3786\"], [0.5555555555555556, \"#d8576b\"], [0.6666666666666666, \"#ed7953\"], [0.7777777777777778, \"#fb9f3a\"], [0.8888888888888888, \"#fdca26\"], [1.0, \"#f0f921\"]], \"type\": \"contour\"}], \"contourcarpet\": [{\"colorbar\": {\"outlinewidth\": 0, \"ticks\": \"\"}, \"type\": \"contourcarpet\"}], \"heatmap\": [{\"colorbar\": {\"outlinewidth\": 0, \"ticks\": \"\"}, \"colorscale\": [[0.0, \"#0d0887\"], [0.1111111111111111, \"#46039f\"], [0.2222222222222222, \"#7201a8\"], [0.3333333333333333, \"#9c179e\"], [0.4444444444444444, \"#bd3786\"], [0.5555555555555556, \"#d8576b\"], [0.6666666666666666, \"#ed7953\"], [0.7777777777777778, \"#fb9f3a\"], [0.8888888888888888, \"#fdca26\"], [1.0, \"#f0f921\"]], \"type\": \"heatmap\"}], \"heatmapgl\": [{\"colorbar\": {\"outlinewidth\": 0, \"ticks\": \"\"}, \"colorscale\": [[0.0, \"#0d0887\"], [0.1111111111111111, \"#46039f\"], [0.2222222222222222, \"#7201a8\"], [0.3333333333333333, \"#9c179e\"], [0.4444444444444444, \"#bd3786\"], [0.5555555555555556, \"#d8576b\"], [0.6666666666666666, \"#ed7953\"], [0.7777777777777778, \"#fb9f3a\"], [0.8888888888888888, \"#fdca26\"], [1.0, \"#f0f921\"]], \"type\": \"heatmapgl\"}], \"histogram\": [{\"marker\": {\"colorbar\": {\"outlinewidth\": 0, \"ticks\": \"\"}}, \"type\": \"histogram\"}], \"histogram2d\": [{\"colorbar\": {\"outlinewidth\": 0, \"ticks\": \"\"}, \"colorscale\": [[0.0, \"#0d0887\"], [0.1111111111111111, \"#46039f\"], [0.2222222222222222, \"#7201a8\"], [0.3333333333333333, \"#9c179e\"], [0.4444444444444444, \"#bd3786\"], [0.5555555555555556, \"#d8576b\"], [0.6666666666666666, \"#ed7953\"], [0.7777777777777778, \"#fb9f3a\"], [0.8888888888888888, \"#fdca26\"], [1.0, \"#f0f921\"]], \"type\": \"histogram2d\"}], \"histogram2dcontour\": [{\"colorbar\": {\"outlinewidth\": 0, \"ticks\": \"\"}, \"colorscale\": [[0.0, \"#0d0887\"], [0.1111111111111111, \"#46039f\"], [0.2222222222222222, \"#7201a8\"], [0.3333333333333333, \"#9c179e\"], [0.4444444444444444, \"#bd3786\"], [0.5555555555555556, \"#d8576b\"], [0.6666666666666666, \"#ed7953\"], [0.7777777777777778, \"#fb9f3a\"], [0.8888888888888888, \"#fdca26\"], [1.0, \"#f0f921\"]], \"type\": \"histogram2dcontour\"}], \"mesh3d\": [{\"colorbar\": {\"outlinewidth\": 0, \"ticks\": \"\"}, \"type\": \"mesh3d\"}], \"parcoords\": [{\"line\": {\"colorbar\": {\"outlinewidth\": 0, \"ticks\": \"\"}}, \"type\": \"parcoords\"}], \"pie\": [{\"automargin\": true, \"type\": \"pie\"}], \"scatter\": [{\"marker\": {\"colorbar\": {\"outlinewidth\": 0, \"ticks\": \"\"}}, \"type\": \"scatter\"}], \"scatter3d\": [{\"line\": {\"colorbar\": {\"outlinewidth\": 0, \"ticks\": \"\"}}, \"marker\": {\"colorbar\": {\"outlinewidth\": 0, \"ticks\": \"\"}}, \"type\": \"scatter3d\"}], \"scattercarpet\": [{\"marker\": {\"colorbar\": {\"outlinewidth\": 0, \"ticks\": \"\"}}, \"type\": \"scattercarpet\"}], \"scattergeo\": [{\"marker\": {\"colorbar\": {\"outlinewidth\": 0, \"ticks\": \"\"}}, \"type\": \"scattergeo\"}], \"scattergl\": [{\"marker\": {\"colorbar\": {\"outlinewidth\": 0, \"ticks\": \"\"}}, \"type\": \"scattergl\"}], \"scattermapbox\": [{\"marker\": {\"colorbar\": {\"outlinewidth\": 0, \"ticks\": \"\"}}, \"type\": \"scattermapbox\"}], \"scatterpolar\": [{\"marker\": {\"colorbar\": {\"outlinewidth\": 0, \"ticks\": \"\"}}, \"type\": \"scatterpolar\"}], \"scatterpolargl\": [{\"marker\": {\"colorbar\": {\"outlinewidth\": 0, \"ticks\": \"\"}}, \"type\": \"scatterpolargl\"}], \"scatterternary\": [{\"marker\": {\"colorbar\": {\"outlinewidth\": 0, \"ticks\": \"\"}}, \"type\": \"scatterternary\"}], \"surface\": [{\"colorbar\": {\"outlinewidth\": 0, \"ticks\": \"\"}, \"colorscale\": [[0.0, \"#0d0887\"], [0.1111111111111111, \"#46039f\"], [0.2222222222222222, \"#7201a8\"], [0.3333333333333333, \"#9c179e\"], [0.4444444444444444, \"#bd3786\"], [0.5555555555555556, \"#d8576b\"], [0.6666666666666666, \"#ed7953\"], [0.7777777777777778, \"#fb9f3a\"], [0.8888888888888888, \"#fdca26\"], [1.0, \"#f0f921\"]], \"type\": \"surface\"}], \"table\": [{\"cells\": {\"fill\": {\"color\": \"#EBF0F8\"}, \"line\": {\"color\": \"white\"}}, \"header\": {\"fill\": {\"color\": \"#C8D4E3\"}, \"line\": {\"color\": \"white\"}}, \"type\": \"table\"}]}, \"layout\": {\"annotationdefaults\": {\"arrowcolor\": \"#2a3f5f\", \"arrowhead\": 0, \"arrowwidth\": 1}, \"autotypenumbers\": \"strict\", \"coloraxis\": {\"colorbar\": {\"outlinewidth\": 0, \"ticks\": \"\"}}, \"colorscale\": {\"diverging\": [[0, \"#8e0152\"], [0.1, \"#c51b7d\"], [0.2, \"#de77ae\"], [0.3, \"#f1b6da\"], [0.4, \"#fde0ef\"], [0.5, \"#f7f7f7\"], [0.6, \"#e6f5d0\"], [0.7, \"#b8e186\"], [0.8, \"#7fbc41\"], [0.9, \"#4d9221\"], [1, \"#276419\"]], \"sequential\": [[0.0, \"#0d0887\"], [0.1111111111111111, \"#46039f\"], [0.2222222222222222, \"#7201a8\"], [0.3333333333333333, \"#9c179e\"], [0.4444444444444444, \"#bd3786\"], [0.5555555555555556, \"#d8576b\"], [0.6666666666666666, \"#ed7953\"], [0.7777777777777778, \"#fb9f3a\"], [0.8888888888888888, \"#fdca26\"], [1.0, \"#f0f921\"]], \"sequentialminus\": [[0.0, \"#0d0887\"], [0.1111111111111111, \"#46039f\"], [0.2222222222222222, \"#7201a8\"], [0.3333333333333333, \"#9c179e\"], [0.4444444444444444, \"#bd3786\"], [0.5555555555555556, \"#d8576b\"], [0.6666666666666666, \"#ed7953\"], [0.7777777777777778, \"#fb9f3a\"], [0.8888888888888888, \"#fdca26\"], [1.0, \"#f0f921\"]]}, \"colorway\": [\"#636efa\", \"#EF553B\", \"#00cc96\", \"#ab63fa\", \"#FFA15A\", \"#19d3f3\", \"#FF6692\", \"#B6E880\", \"#FF97FF\", \"#FECB52\"], \"font\": {\"color\": \"#2a3f5f\"}, \"geo\": {\"bgcolor\": \"white\", \"lakecolor\": \"white\", \"landcolor\": \"#E5ECF6\", \"showlakes\": true, \"showland\": true, \"subunitcolor\": \"white\"}, \"hoverlabel\": {\"align\": \"left\"}, \"hovermode\": \"closest\", \"mapbox\": {\"style\": \"light\"}, \"paper_bgcolor\": \"white\", \"plot_bgcolor\": \"#E5ECF6\", \"polar\": {\"angularaxis\": {\"gridcolor\": \"white\", \"linecolor\": \"white\", \"ticks\": \"\"}, \"bgcolor\": \"#E5ECF6\", \"radialaxis\": {\"gridcolor\": \"white\", \"linecolor\": \"white\", \"ticks\": \"\"}}, \"scene\": {\"xaxis\": {\"backgroundcolor\": \"#E5ECF6\", \"gridcolor\": \"white\", \"gridwidth\": 2, \"linecolor\": \"white\", \"showbackground\": true, \"ticks\": \"\", \"zerolinecolor\": \"white\"}, \"yaxis\": {\"backgroundcolor\": \"#E5ECF6\", \"gridcolor\": \"white\", \"gridwidth\": 2, \"linecolor\": \"white\", \"showbackground\": true, \"ticks\": \"\", \"zerolinecolor\": \"white\"}, \"zaxis\": {\"backgroundcolor\": \"#E5ECF6\", \"gridcolor\": \"white\", \"gridwidth\": 2, \"linecolor\": \"white\", \"showbackground\": true, \"ticks\": \"\", \"zerolinecolor\": \"white\"}}, \"shapedefaults\": {\"line\": {\"color\": \"#2a3f5f\"}}, \"ternary\": {\"aaxis\": {\"gridcolor\": \"white\", \"linecolor\": \"white\", \"ticks\": \"\"}, \"baxis\": {\"gridcolor\": \"white\", \"linecolor\": \"white\", \"ticks\": \"\"}, \"bgcolor\": \"#E5ECF6\", \"caxis\": {\"gridcolor\": \"white\", \"linecolor\": \"white\", \"ticks\": \"\"}}, \"title\": {\"x\": 0.05}, \"xaxis\": {\"automargin\": true, \"gridcolor\": \"white\", \"linecolor\": \"white\", \"ticks\": \"\", \"title\": {\"standoff\": 15}, \"zerolinecolor\": \"white\", \"zerolinewidth\": 2}, \"yaxis\": {\"automargin\": true, \"gridcolor\": \"white\", \"linecolor\": \"white\", \"ticks\": \"\", \"title\": {\"standoff\": 15}, \"zerolinecolor\": \"white\", \"zerolinewidth\": 2}}}},                        {\"responsive\": true}                    ).then(function(){\n",
       "                            \n",
       "var gd = document.getElementById('404fd5d3-a73e-47d5-867e-8c7910e970a0');\n",
       "var x = new MutationObserver(function (mutations, observer) {{\n",
       "        var display = window.getComputedStyle(gd).display;\n",
       "        if (!display || display === 'none') {{\n",
       "            console.log([gd, 'removed!']);\n",
       "            Plotly.purge(gd);\n",
       "            observer.disconnect();\n",
       "        }}\n",
       "}});\n",
       "\n",
       "// Listen for the removal of the full notebook cells\n",
       "var notebookContainer = gd.closest('#notebook-container');\n",
       "if (notebookContainer) {{\n",
       "    x.observe(notebookContainer, {childList: true});\n",
       "}}\n",
       "\n",
       "// Listen for the clearing of the current output cell\n",
       "var outputEl = gd.closest('.output');\n",
       "if (outputEl) {{\n",
       "    x.observe(outputEl, {childList: true});\n",
       "}}\n",
       "\n",
       "                        })                };                });            </script>        </div>"
      ]
     },
     "metadata": {},
     "output_type": "display_data"
    }
   ],
   "source": [
    "a=LS_candidates['STATE'].unique()\n",
    "temp={}\n",
    "for i in a:\n",
    "    temp[i]=LS_candidates[(LS_candidates['CRIMINAL\\nCASES']>0) & (LS_candidates['STATE']==i)]['STATE'].count()\n",
    "figure=go.Figure()\n",
    "temp=sorted(temp.items(), key=lambda x: x[1], reverse=True)\n",
    "temp = {k: v for k, v in temp}\n",
    "top15 = {k: temp[k] for k in list(temp)[:len(a)]}\n",
    "plt.bar(top15.keys(),top15.values())\n",
    "plt.xticks(list(top15.keys()), rotation='vertical')\n",
    "plt.title(\"States with most number of criminal cases\",pad=20)\n",
    "plt.show()\n",
    "figure.add_trace(go.Bar(y=list(top15.values()),x=list(top15.keys())))\n",
    "figure.show()"
   ]
  },
  {
   "cell_type": "code",
   "execution_count": 451,
   "metadata": {},
   "outputs": [
    {
     "data": {
      "image/png": "[encoded data removed]",
      "text/plain": [
       "<Figure size 432x288 with 1 Axes>"
      ]
     },
     "metadata": {
      "needs_background": "light"
     },
     "output_type": "display_data"
    }
   ],
   "source": [
    "a=list(LS_candidates['EDUCATION'].unique())\n",
    "a.remove('NO EDUCATION')\n",
    "temp={}\n",
    "for i in a:\n",
    "    temp[i]=LS_candidates[(LS_candidates['EDUCATION']==i)&(LS_candidates['WINNER']==1)]['SYMBOL'].count()\n",
    "figure=go.Figure()\n",
    "temp=sorted(temp.items(), key=lambda x: x[1], reverse=True)\n",
    "temp = {k: v for k, v in temp}\n",
    "top15 = {k: temp[k] for k in list(temp)[:15]}\n",
    "plt.title(\"elected candidates based on their education\")\n",
    "plt.bar(top15.keys(),top15.values())\n",
    "plt.xticks(list(top15.keys()), rotation='vertical')\n",
    "plt.show()"
   ]
  },
  {
   "cell_type": "code",
   "execution_count": 467,
   "metadata": {},
   "outputs": [
    {
     "data": {
      "image/png": "[encoded data removed]",
      "text/plain": [
       "<Figure size 432x288 with 1 Axes>"
      ]
     },
     "metadata": {
      "needs_background": "light"
     },
     "output_type": "display_data"
    }
   ],
   "source": [
    "a=LS_candidates[LS_candidates['GENERAL\\nVOTES']>0]['NAME']\n",
    "temp={}\n",
    "for i in a:\n",
    "    temp[i]=LS_candidates[(LS_candidates['GENERAL\\nVOTES']>0) & (LS_candidates['NAME']==i)]['GENERAL\\nVOTES'].values[0]\n",
    "figure=go.Figure()\n",
    "temp=sorted(temp.items(), key=lambda x: x[1], reverse=True)\n",
    "temp = {k: v for k, v in temp}\n",
    "top15 = {k: temp[k] for k in list(temp)[:15]}\n",
    "plt.bar(top15.keys(),top15.values())\n",
    "plt.xticks(list(top15.keys()), rotation='vertical')\n",
    "plt.title(\"Candidates who got high general votes\",pad=20)\n",
    "plt.show()"
   ]
  },
  {
   "cell_type": "code",
   "execution_count": 468,
   "metadata": {},
   "outputs": [
    {
     "data": {
      "image/png": "[encoded data removed]",
      "text/plain": [
       "<Figure size 432x288 with 1 Axes>"
      ]
     },
     "metadata": {
      "needs_background": "light"
     },
     "output_type": "display_data"
    }
   ],
   "source": [
    "a=LS_candidates[LS_candidates['POSTAL\\nVOTES']>0]['NAME']\n",
    "temp={}\n",
    "for i in a:\n",
    "    temp[i]=LS_candidates[(LS_candidates['POSTAL\\nVOTES']>0) & (LS_candidates['NAME']==i)]['POSTAL\\nVOTES'].values[0]\n",
    "figure=go.Figure()\n",
    "temp=sorted(temp.items(), key=lambda x: x[1], reverse=True)\n",
    "temp = {k: v for k, v in temp}\n",
    "top15 = {k: temp[k] for k in list(temp)[:15]}\n",
    "plt.bar(top15.keys(),top15.values())\n",
    "plt.xticks(list(top15.keys()), rotation='vertical')\n",
    "plt.title(\"Candidates who got high postal votes\",pad=20)\n",
    "plt.show()"
   ]
  },
  {
   "cell_type": "code",
   "execution_count": null,
   "metadata": {},
   "outputs": [],
   "source": []
  }
 ],
 "metadata": {
  "kernelspec": {
   "display_name": "Python 3",
   "language": "python",
   "name": "python3"
  },
  "language_info": {
   "codemirror_mode": {
    "name": "ipython",
    "version": 3
   },
   "file_extension": ".py",
   "mimetype": "text/x-python",
   "name": "python",
   "nbconvert_exporter": "python",
   "pygments_lexer": "ipython3",
   "version": "3.8.5"
  }
 },
 "nbformat": 4,
 "nbformat_minor": 4
}
